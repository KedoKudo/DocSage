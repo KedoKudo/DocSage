{
 "cells": [
  {
   "cell_type": "markdown",
   "metadata": {},
   "source": [
    "# Overview\n",
    "\n",
    "This notebook is intended to build a Chroma database for working on the Mantid project."
   ]
  },
  {
   "cell_type": "code",
   "execution_count": 1,
   "metadata": {},
   "outputs": [],
   "source": [
    "from langchain_community.document_loaders.generic import GenericLoader\n",
    "from langchain_community.document_loaders.parsers import LanguageParser\n",
    "from langchain_text_splitters import Language, RecursiveCharacterTextSplitter\n",
    "from pprint import pprint\n",
    "from langchain_community.embeddings import OllamaEmbeddings\n",
    "from langchain.vectorstores import Chroma"
   ]
  },
  {
   "cell_type": "code",
   "execution_count": 2,
   "metadata": {},
   "outputs": [],
   "source": [
    "mantid_dir = \"/Users/8cz/Github/mantid/Framework\"\n",
    "mantiddoc_dir = \"/Users/8cz/Github/mantid/docs/source\""
   ]
  },
  {
   "cell_type": "code",
   "execution_count": 3,
   "metadata": {},
   "outputs": [],
   "source": [
    "loader_cxx = GenericLoader.from_filesystem(\n",
    "    mantid_dir,\n",
    "    glob=\"**/*\",\n",
    "    suffixes=[\".cpp\", \".h\", \".c\", \".hpp\", \".cxx\", \".hxx\", \".cc\", \".hh\"],\n",
    "    parser=LanguageParser(Language.CPP),\n",
    ")\n",
    "\n",
    "loader_py = GenericLoader.from_filesystem(\n",
    "    mantid_dir,\n",
    "    glob=\"**/*\",\n",
    "    suffixes=[\".py\"],\n",
    "    parser=LanguageParser(Language.PYTHON),\n",
    ")"
   ]
  },
  {
   "cell_type": "code",
   "execution_count": 4,
   "metadata": {},
   "outputs": [
    {
     "name": "stderr",
     "output_type": "stream",
     "text": [
      "/Users/8cz/micromamba/envs/docsage/lib/python3.11/site-packages/tree_sitter/__init__.py:36: FutureWarning: Language(path, name) is deprecated. Use Language(ptr, name) instead.\n",
      "  warn(\"{} is deprecated. Use {} instead.\".format(old, new), FutureWarning)\n"
     ]
    },
    {
     "name": "stdout",
     "output_type": "stream",
     "text": [
      "C++ documents:\n",
      "[Document(page_content='// Mantid Repository : https://github.com/mantidproject/mantid\\n//\\n// Copyright &copy; 2011 ISIS Rutherford Appleton Laboratory UKRI,\\n//   NScD Oak Ridge National Laboratory, European Spallation Source,\\n//   Institut Laue - Langevin & CSNS, Institute of High Energy Physics, CAS\\n// SPDX - License - Identifier: GPL - 3.0 +\\n#pragma once\\n\\n//----------------------------------------------------------------------\\n// Includes\\n//----------------------------------------------------------------------\\n#include \"MantidAPI/Algorithm.h\"\\n\\nnamespace Mantid {\\nnamespace WorkflowAlgorithms {\\n/**\\n    Calculate the detector sensitivity and patch the pixels that are masked in a\\n   second workspace.\\n*/\\nclass DLLExport EQSANSPatchSensitivity final : public API::Algorithm {\\npublic:\\n  /// Algorithm\\'s name\\n  const std::string name() const override { return \"EQSANSPatchSensitivity\"; }\\n  /// Summary of algorithms purpose\\n  const std::string summary() const override { return \"Patch EQSANS sensitivity correction.\"; }\\n  /// Algorithm\\'s version\\n  int version() const override { return (1); }\\n  /// Algorithm\\'s category for identification\\n  const std::string category() const override { return \"Workflow\\\\\\\\SANS\"; }\\n\\nprivate:\\n  /// Initialisation code\\n  void init() override;\\n  /// Execution code\\n  void exec() override;\\n};\\n\\n} // namespace WorkflowAlgorithms\\n} // namespace Mantid\\n', metadata={'source': '/Users/8cz/Github/mantid/Framework/WorkflowAlgorithms/inc/MantidWorkflowAlgorithms/EQSANSPatchSensitivity.h'}),\n",
      " Document(page_content='// Mantid Repository : https://github.com/mantidproject/mantid\\n//\\n// Copyright &copy; 2013 ISIS Rutherford Appleton Laboratory UKRI,\\n//   NScD Oak Ridge National Laboratory, European Spallation Source,\\n//   Institut Laue - Langevin & CSNS, Institute of High Energy Physics, CAS\\n// SPDX - License - Identifier: GPL - 3.0 +\\n#pragma once\\n\\n#include \"MantidAPI/Algorithm.h\"\\n#include \"MantidDataObjects/EventWorkspace.h\"\\n#include \"MantidKernel/System.h\"\\n\\nnamespace Mantid {\\nnamespace WorkflowAlgorithms {\\n/** This workflow algorithm is for generation of a rocking curve from an\\n   alignment scan performed\\n    on an ADARA-enabled instrument at the SNS.\\n    An important thing to note about this algorithm is that it may modify the\\n   input workspace.\\n*/\\nclass DLLExport StepScan final : public API::Algorithm {\\npublic:\\n  const std::string name() const override;\\n  /// Summary of algorithms purpose\\n  const std::string summary() const override {\\n    return \"Workflow algorithm for analysis of an alignment scan from an SNS \"\\n           \"Adara-enabled beam line\";\\n  }\\n\\n  int version() const override;\\n  const std::string category() const override;\\n\\nprivate:\\n  void init() override;\\n  void exec() override;\\n\\n  DataObjects::EventWorkspace_sptr getMonitorWorkspace(const API::MatrixWorkspace_sptr &inputWS);\\n  DataObjects::EventWorkspace_sptr cloneInputWorkspace(const API::Workspace_sptr &inputWS);\\n  void runMaskDetectors(const API::MatrixWorkspace_sptr &inputWS, const API::MatrixWorkspace_sptr &maskWS);\\n  void runFilterByXValue(const API::MatrixWorkspace_sptr &inputWS, const double xmin, const double xmax);\\n};\\n\\n} // namespace WorkflowAlgorithms\\n} // namespace Mantid\\n', metadata={'source': '/Users/8cz/Github/mantid/Framework/WorkflowAlgorithms/inc/MantidWorkflowAlgorithms/StepScan.h'}),\n",
      " Document(page_content='// Mantid Repository : https://github.com/mantidproject/mantid\\n//\\n// Copyright &copy; 2018 ISIS Rutherford Appleton Laboratory UKRI,\\n//   NScD Oak Ridge National Laboratory, European Spallation Source,\\n//   Institut Laue - Langevin & CSNS, Institute of High Energy Physics, CAS\\n// SPDX - License - Identifier: GPL - 3.0 +\\n#pragma once\\n\\n//----------------------------------------------------------------------\\n// Includes\\n//----------------------------------------------------------------------\\n#include \"MantidAPI/Algorithm.h\"\\n\\nnamespace Mantid {\\nnamespace WorkflowAlgorithms {\\n/**\\n\\n    Performs a solid angle correction on a 2D SANS data set to correct\\n    for the absence of curvature of the detector.\\n\\n    Note: one could use SolidAngle to perform this calculation. Solid Angle\\n    returns the solid angle of each detector pixel, but that approach requires\\n   more un-necessary calculations.\\n\\n    In the contrary, this algorithm performs analytical correction as follows:\\n      Omega(theta) = Omega(0) cos^3(theta)\\n      where Omega is the solid angle.\\n     so we simply apply the\\n   cos^3(theta).\\n\\n    Brulet et al, J. Appl. Cryst. (2007) 40, 165-177.\\n    See equation 22.\\n\\n    Required Properties:\\n    <UL>\\n    <LI> InputWorkspace    - The data in units of wavelength. </LI>\\n    <LI> OutputWorkspace   - The workspace in which to store the result\\n   histogram. </LI>\\n    </UL>\\n\\n    File change history is stored at: <https://github.com/mantidproject/mantid>\\n    Code Documentation is available at: <http://doxygen.mantidproject.org>\\n*/\\nclass DLLExport SANSSolidAngleCorrection final : public API::Algorithm {\\npublic:\\n  /// Algorithm\\'s name\\n  const std::string name() const override { return \"SANSSolidAngleCorrection\"; }\\n  /// Summary of algorithms purpose\\n  const std::string summary() const override { return \"Performs solid angle correction on SANS 2D data.\"; }\\n  /// Algorithm\\'s version\\n  int version() const override { return (1); }\\n  const std::vector<std::string> seeAlso() const override { return {\"SolidAngle\", \"SANSBeamFluxCorrection\"}; }\\n  /// Algorithm\\'s category for identification\\n  const std::string category() const override {\\n    return \"Workflow\\\\\\\\SANS\\\\\\\\UsesPropertyManager;\"\\n           \"CorrectionFunctions\\\\\\\\InstrumentCorrections\";\\n  }\\n\\nprivate:\\n  /// Initialisation code\\n  void init() override;\\n  /// Execution code\\n  void exec() override;\\n  void execEvent();\\n};\\n\\n} // namespace WorkflowAlgorithms\\n} // namespace Mantid\\n', metadata={'source': '/Users/8cz/Github/mantid/Framework/WorkflowAlgorithms/inc/MantidWorkflowAlgorithms/SANSSolidAngleCorrection.h'}),\n",
      " Document(page_content='// Mantid Repository : https://github.com/mantidproject/mantid\\n//\\n// Copyright &copy; 2015 ISIS Rutherford Appleton Laboratory UKRI,\\n//   NScD Oak Ridge National Laboratory, European Spallation Source,\\n//   Institut Laue - Langevin & CSNS, Institute of High Energy Physics, CAS\\n// SPDX - License - Identifier: GPL - 3.0 +\\n#pragma once\\n\\n#include \"MantidAPI/AlgorithmManager.h\"\\n#include \"MantidAPI/MatrixWorkspace.h\"\\n#include \"MantidAPI/WorkspaceGroup.h\"\\n\\n#include <vector>\\n\\nnamespace Mantid {\\nnamespace WorkflowAlgorithms {\\n\\n/** IMuonAsymmetryCalculator : Abstract base class for muon asymmetry\\n  calculations\\n*/\\nclass DLLExport IMuonAsymmetryCalculator {\\npublic:\\n  IMuonAsymmetryCalculator(API::WorkspaceGroup_sptr inputWS, std::vector<int> summedPeriods,\\n                           std::vector<int> subtractedPeriods);\\n  virtual ~IMuonAsymmetryCalculator() = default;\\n  /// Overridden in derived classes to perform asymmetry calculation\\n  virtual API::MatrixWorkspace_sptr calculate() const = 0;\\n\\nprotected:\\n  /// Sums the specified periods in the input workspace group\\n  API::MatrixWorkspace_sptr sumPeriods(const std::vector<int> &periodsToSum) const;\\n\\n  /// Subtracts one workspace from another (lhs - rhs)\\n  API::MatrixWorkspace_sptr subtractWorkspaces(const API::MatrixWorkspace_sptr &lhs,\\n                                               const API::MatrixWorkspace_sptr &rhs) const;\\n\\n  /// Extracts a single spectrum from a workspace\\n  API::MatrixWorkspace_sptr extractSpectrum(const API::Workspace_sptr &inputWS, const int index) const;\\n\\n  /// Input workspace\\n  const API::WorkspaceGroup_sptr m_inputWS;\\n\\n  /// List of summed periods\\n  const std::vector<int> m_summedPeriods;\\n\\n  /// List of subtracted periods\\n  const std::vector<int> m_subtractedPeriods;\\n};\\n\\n} // namespace WorkflowAlgorithms\\n} // namespace Mantid\\n', metadata={'source': '/Users/8cz/Github/mantid/Framework/WorkflowAlgorithms/inc/MantidWorkflowAlgorithms/IMuonAsymmetryCalculator.h'}),\n",
      " Document(page_content='// Mantid Repository : https://github.com/mantidproject/mantid\\n//\\n// Copyright &copy; 2015 ISIS Rutherford Appleton Laboratory UKRI,\\n//   NScD Oak Ridge National Laboratory, European Spallation Source,\\n//   Institut Laue - Langevin & CSNS, Institute of High Energy Physics, CAS\\n// SPDX - License - Identifier: GPL - 3.0 +\\n#pragma once\\n\\n#include \"MantidWorkflowAlgorithms/MuonGroupCalculator.h\"\\n\\nnamespace Mantid {\\nnamespace WorkflowAlgorithms {\\n\\n/** MuonGroupCountsCalculator : Calculates pure counts of the group specified\\n  via group index\\n*/\\nclass DLLExport MuonGroupCountsCalculator : public MuonGroupCalculator {\\npublic:\\n  MuonGroupCountsCalculator(const Mantid::API::WorkspaceGroup_sptr &inputWS, const std::vector<int> &summedPeriods,\\n                            const std::vector<int> &subtractedPeriods, const int groupIndex);\\n  /// Performs group counts calculation\\n  Mantid::API::MatrixWorkspace_sptr calculate() const override;\\n};\\n\\n} // namespace WorkflowAlgorithms\\n} // namespace Mantid\\n', metadata={'source': '/Users/8cz/Github/mantid/Framework/WorkflowAlgorithms/inc/MantidWorkflowAlgorithms/MuonGroupCountsCalculator.h'})]\n"
     ]
    }
   ],
   "source": [
    "docs_cxx = loader_cxx.load()\n",
    "\n",
    "print(\"C++ documents:\")\n",
    "pprint(docs_cxx[:5])"
   ]
  },
  {
   "cell_type": "code",
   "execution_count": 5,
   "metadata": {},
   "outputs": [
    {
     "name": "stdout",
     "output_type": "stream",
     "text": [
      "Python documents:\n",
      "[Document(page_content='class EQSANSQ2DTest(unittest.TestCase):\\n    def setUp(self):\\n\\n        self.test_ws_name = \"EQSANS_test_ws\"\\n        x = [1.0, 2.0, 3.0, 4.0, 5.0, 6.0, 7.0, 8.0, 9.0, 10.0, 11.0]\\n        y = 491520 * [0.1]\\n        CreateWorkspace(OutputWorkspace=self.test_ws_name, DataX=x, DataY=y, DataE=y, NSpec=\"49152\", UnitX=\"Wavelength\")\\n        LoadInstrument(Workspace=self.test_ws_name, InstrumentName=\"EQSANS\", RewriteSpectraMap=True)\\n\\n        run = mtd[self.test_ws_name].mutableRun()\\n\\n        run.addProperty(\"sample_detector_distance\", 4000.0, \"mm\", True)\\n        run.addProperty(\"beam_center_x\", 96.0, \"pixel\", True)\\n        run.addProperty(\"beam_center_y\", 128.0, \"pixel\", True)\\n        run.addProperty(\"wavelength_min\", 1.0, \"Angstrom\", True)\\n        run.addProperty(\"wavelength_max\", 11.0, \"Angstrom\", True)\\n        run.addProperty(\"is_frame_skipping\", 0, True)\\n        run.addProperty(\"wavelength_min_frame2\", 5.0, \"Angstrom\", True)\\n        run.addProperty(\"wavelength_max_frame2\", 10.0, \"Angstrom\", True)\\n\\n    def tearDown(self):\\n        if self.test_ws_name in mtd:\\n            DeleteWorkspace(Workspace=self.test_ws_name)\\n\\n    def test_q2d(self):\\n        EQSANSQ2D(InputWorkspace=self.test_ws_name)\\n        ReplaceSpecialValues(\\n            InputWorkspace=self.test_ws_name + \"_Iqxy\", OutputWorkspace=self.test_ws_name + \"_Iqxy\", NaNValue=0, NaNError=0\\n        )\\n        Integration(InputWorkspace=self.test_ws_name + \"_Iqxy\", OutputWorkspace=\"__tmp\")\\n        SumSpectra(InputWorkspace=\"__tmp\", OutputWorkspace=\"summed\")\\n        self.assertAlmostEqual(mtd[\"summed\"].readY(0)[0], 7.24077, 6)\\n        for ws in [\"__tmp\", \"summed\"]:\\n            if mtd.doesExist(ws):\\n                DeleteWorkspace(Workspace=ws)', metadata={'source': '/Users/8cz/Github/mantid/Framework/WorkflowAlgorithms/test/EQSANSQ2DTest.py', 'content_type': 'functions_classes', 'language': <Language.PYTHON: 'python'>}),\n",
      " Document(page_content='# Mantid Repository : https://github.com/mantidproject/mantid\\n#\\n# Copyright &copy; 2018 ISIS Rutherford Appleton Laboratory UKRI,\\n#   NScD Oak Ridge National Laboratory, European Spallation Source,\\n#   Institut Laue - Langevin & CSNS, Institute of High Energy Physics, CAS\\n# SPDX - License - Identifier: GPL - 3.0 +\\nimport unittest\\nfrom mantid.simpleapi import *\\n\\n\\n# Code for: class EQSANSQ2DTest(unittest.TestCase):\\n\\n\\nif __name__ == \"__main__\":\\n    unittest.main()', metadata={'source': '/Users/8cz/Github/mantid/Framework/WorkflowAlgorithms/test/EQSANSQ2DTest.py', 'content_type': 'simplified_code', 'language': <Language.PYTHON: 'python'>}),\n",
      " Document(page_content='class SANSBeamFluxCorrectionTest(unittest.TestCase):\\n    def setUp(self):\\n\\n        self.test_ws_name = \"EQSANS_test_ws\"\\n        x = [1.0, 2.0, 3.0, 4.0, 5.0, 6.0, 7.0, 8.0, 9.0, 10.0, 11.0]\\n        y = 491520 * [0.1]\\n        CreateWorkspace(OutputWorkspace=self.test_ws_name, DataX=x, DataY=y, DataE=y, NSpec=\"49152\", UnitX=\"Wavelength\")\\n        LoadInstrument(self.test_ws_name, InstrumentName=\"EQSANS\", RewriteSpectraMap=True)\\n\\n        self.monitor = \"EQSANS_test_monitor_ws\"\\n        SumSpectra(InputWorkspace=self.test_ws_name, OutputWorkspace=self.monitor)\\n\\n    def tearDown(self):\\n        if AnalysisDataService.doesExist(self.test_ws_name):\\n            AnalysisDataService.remove(self.test_ws_name)\\n        if AnalysisDataService.doesExist(self.monitor):\\n            AnalysisDataService.remove(self.monitor)\\n\\n    def test_simple(self):\\n        output = SANSBeamFluxCorrection(\\n            InputWorkspace=self.test_ws_name, InputMonitorWorkspace=self.monitor, ReferenceFluxFilename=\"SANSBeamFluxCorrectionMonitor.nxs\"\\n        )\\n\\n        ref_value = 0.1 / (49152 * 0.1) / (49152 * 0.1)\\n        output_y = output[0].readY(0)\\n        self.assertAlmostEqual(ref_value, output_y[0], 6)\\n\\n    def test_in_place(self):\\n        output = SANSBeamFluxCorrection(\\n            InputWorkspace=self.test_ws_name,\\n            InputMonitorWorkspace=self.monitor,\\n            ReferenceFluxFilename=\"SANSBeamFluxCorrectionMonitor.nxs\",\\n            OutputWorkspace=self.test_ws_name,\\n        )\\n\\n        ref_value = 0.1 / (49152 * 0.1) / (49152 * 0.1)\\n        output_y = output[0].readY(0)\\n        self.assertAlmostEqual(ref_value, output_y[0], 6)', metadata={'source': '/Users/8cz/Github/mantid/Framework/WorkflowAlgorithms/test/SANSBeamFluxCorrectionTest.py', 'content_type': 'functions_classes', 'language': <Language.PYTHON: 'python'>}),\n",
      " Document(page_content='# Mantid Repository : https://github.com/mantidproject/mantid\\n#\\n# Copyright &copy; 2018 ISIS Rutherford Appleton Laboratory UKRI,\\n#   NScD Oak Ridge National Laboratory, European Spallation Source,\\n#   Institut Laue - Langevin & CSNS, Institute of High Energy Physics, CAS\\n# SPDX - License - Identifier: GPL - 3.0 +\\nimport unittest\\nfrom mantid.simpleapi import *\\n\\n\\n# Code for: class SANSBeamFluxCorrectionTest(unittest.TestCase):\\n\\n\\nif __name__ == \"__main__\":\\n    unittest.main()', metadata={'source': '/Users/8cz/Github/mantid/Framework/WorkflowAlgorithms/test/SANSBeamFluxCorrectionTest.py', 'content_type': 'simplified_code', 'language': <Language.PYTHON: 'python'>}),\n",
      " Document(page_content='# -*- coding: utf-8 -*-\\n# Mantid Repository : https://github.com/mantidproject/mantid\\n#\\n# Copyright &copy; 2018 ISIS Rutherford Appleton Laboratory UKRI,\\n#     NScD Oak Ridge National Laboratory, European Spallation Source\\n#     & Institut Laue - Langevin\\n# SPDX - License - Identifier: GPL - 3.0 +\\n#  This file is part of the mantid workbench.\\nimport os\\nfrom setuptools import find_packages, setup\\n\\n\\n# The most basic setup possible to be able to use pip develop/install\\nsetup(\\n    name=\"mantid\",\\n    version=os.environ[\"MANTID_VERSION_STR\"],\\n    packages=find_packages(exclude=[\"*.test\", \"plugins*\"]),\\n    package_data={\"\": [\"*.ui\"]},\\n)', metadata={'source': '/Users/8cz/Github/mantid/Framework/PythonInterface/setup.py', 'content_type': 'simplified_code', 'language': <Language.PYTHON: 'python'>})]\n"
     ]
    }
   ],
   "source": [
    "docs_py = loader_py.load()\n",
    "\n",
    "print(\"Python documents:\")\n",
    "pprint(docs_py[:5])"
   ]
  },
  {
   "cell_type": "code",
   "execution_count": 6,
   "metadata": {},
   "outputs": [],
   "source": [
    "splitter_cxx = RecursiveCharacterTextSplitter.from_language(\n",
    "    language=Language.CPP,\n",
    "    chunk_size=1024,\n",
    "    chunk_overlap=128,\n",
    ")"
   ]
  },
  {
   "cell_type": "code",
   "execution_count": 7,
   "metadata": {},
   "outputs": [],
   "source": [
    "splitter_py = RecursiveCharacterTextSplitter.from_language(\n",
    "    language=Language.PYTHON,\n",
    "    chunk_size=1024,\n",
    "    chunk_overlap=128,\n",
    ")"
   ]
  },
  {
   "cell_type": "code",
   "execution_count": 8,
   "metadata": {},
   "outputs": [],
   "source": [
    "splits_cxx = splitter_cxx.split_documents(docs_cxx)\n",
    "splits_py = splitter_py.split_documents(docs_py)"
   ]
  },
  {
   "cell_type": "code",
   "execution_count": 9,
   "metadata": {},
   "outputs": [
    {
     "name": "stdout",
     "output_type": "stream",
     "text": [
      "C++ splits:\n",
      "[Document(page_content='// Mantid Repository : https://github.com/mantidproject/mantid\\n//\\n// Copyright &copy; 2011 ISIS Rutherford Appleton Laboratory UKRI,\\n//   NScD Oak Ridge National Laboratory, European Spallation Source,\\n//   Institut Laue - Langevin & CSNS, Institute of High Energy Physics, CAS\\n// SPDX - License - Identifier: GPL - 3.0 +\\n#pragma once\\n\\n//----------------------------------------------------------------------\\n// Includes\\n//----------------------------------------------------------------------\\n#include \"MantidAPI/Algorithm.h\"\\n\\nnamespace Mantid {\\nnamespace WorkflowAlgorithms {\\n/**\\n    Calculate the detector sensitivity and patch the pixels that are masked in a\\n   second workspace.\\n*/', metadata={'source': '/Users/8cz/Github/mantid/Framework/WorkflowAlgorithms/inc/MantidWorkflowAlgorithms/EQSANSPatchSensitivity.h'}),\n",
      " Document(page_content='class DLLExport EQSANSPatchSensitivity final : public API::Algorithm {\\npublic:\\n  /// Algorithm\\'s name\\n  const std::string name() const override { return \"EQSANSPatchSensitivity\"; }\\n  /// Summary of algorithms purpose\\n  const std::string summary() const override { return \"Patch EQSANS sensitivity correction.\"; }\\n  /// Algorithm\\'s version\\n  int version() const override { return (1); }\\n  /// Algorithm\\'s category for identification\\n  const std::string category() const override { return \"Workflow\\\\\\\\SANS\"; }\\n\\nprivate:\\n  /// Initialisation code\\n  void init() override;\\n  /// Execution code\\n  void exec() override;\\n};\\n\\n} // namespace WorkflowAlgorithms\\n} // namespace Mantid', metadata={'source': '/Users/8cz/Github/mantid/Framework/WorkflowAlgorithms/inc/MantidWorkflowAlgorithms/EQSANSPatchSensitivity.h'}),\n",
      " Document(page_content='// Mantid Repository : https://github.com/mantidproject/mantid\\n//\\n// Copyright &copy; 2013 ISIS Rutherford Appleton Laboratory UKRI,\\n//   NScD Oak Ridge National Laboratory, European Spallation Source,\\n//   Institut Laue - Langevin & CSNS, Institute of High Energy Physics, CAS\\n// SPDX - License - Identifier: GPL - 3.0 +\\n#pragma once\\n\\n#include \"MantidAPI/Algorithm.h\"\\n#include \"MantidDataObjects/EventWorkspace.h\"\\n#include \"MantidKernel/System.h\"\\n\\nnamespace Mantid {\\nnamespace WorkflowAlgorithms {\\n/** This workflow algorithm is for generation of a rocking curve from an\\n   alignment scan performed\\n    on an ADARA-enabled instrument at the SNS.\\n    An important thing to note about this algorithm is that it may modify the\\n   input workspace.\\n*/', metadata={'source': '/Users/8cz/Github/mantid/Framework/WorkflowAlgorithms/inc/MantidWorkflowAlgorithms/StepScan.h'}),\n",
      " Document(page_content='class DLLExport StepScan final : public API::Algorithm {\\npublic:\\n  const std::string name() const override;\\n  /// Summary of algorithms purpose\\n  const std::string summary() const override {\\n    return \"Workflow algorithm for analysis of an alignment scan from an SNS \"\\n           \"Adara-enabled beam line\";\\n  }\\n\\n  int version() const override;\\n  const std::string category() const override;\\n\\nprivate:\\n  void init() override;\\n  void exec() override;\\n\\n  DataObjects::EventWorkspace_sptr getMonitorWorkspace(const API::MatrixWorkspace_sptr &inputWS);\\n  DataObjects::EventWorkspace_sptr cloneInputWorkspace(const API::Workspace_sptr &inputWS);\\n  void runMaskDetectors(const API::MatrixWorkspace_sptr &inputWS, const API::MatrixWorkspace_sptr &maskWS);\\n  void runFilterByXValue(const API::MatrixWorkspace_sptr &inputWS, const double xmin, const double xmax);\\n};\\n\\n} // namespace WorkflowAlgorithms\\n} // namespace Mantid', metadata={'source': '/Users/8cz/Github/mantid/Framework/WorkflowAlgorithms/inc/MantidWorkflowAlgorithms/StepScan.h'}),\n",
      " Document(page_content='// Mantid Repository : https://github.com/mantidproject/mantid\\n//\\n// Copyright &copy; 2018 ISIS Rutherford Appleton Laboratory UKRI,\\n//   NScD Oak Ridge National Laboratory, European Spallation Source,\\n//   Institut Laue - Langevin & CSNS, Institute of High Energy Physics, CAS\\n// SPDX - License - Identifier: GPL - 3.0 +\\n#pragma once\\n\\n//----------------------------------------------------------------------\\n// Includes\\n//----------------------------------------------------------------------\\n#include \"MantidAPI/Algorithm.h\"\\n\\nnamespace Mantid {\\nnamespace WorkflowAlgorithms {\\n/**\\n\\n    Performs a solid angle correction on a 2D SANS data set to correct\\n    for the absence of curvature of the detector.\\n\\n    Note: one could use SolidAngle to perform this calculation. Solid Angle\\n    returns the solid angle of each detector pixel, but that approach requires\\n   more un-necessary calculations.', metadata={'source': '/Users/8cz/Github/mantid/Framework/WorkflowAlgorithms/inc/MantidWorkflowAlgorithms/SANSSolidAngleCorrection.h'})]\n",
      "Python splits:\n",
      "[Document(page_content='class EQSANSQ2DTest(unittest.TestCase):\\n    def setUp(self):\\n\\n        self.test_ws_name = \"EQSANS_test_ws\"\\n        x = [1.0, 2.0, 3.0, 4.0, 5.0, 6.0, 7.0, 8.0, 9.0, 10.0, 11.0]\\n        y = 491520 * [0.1]\\n        CreateWorkspace(OutputWorkspace=self.test_ws_name, DataX=x, DataY=y, DataE=y, NSpec=\"49152\", UnitX=\"Wavelength\")\\n        LoadInstrument(Workspace=self.test_ws_name, InstrumentName=\"EQSANS\", RewriteSpectraMap=True)\\n\\n        run = mtd[self.test_ws_name].mutableRun()\\n\\n        run.addProperty(\"sample_detector_distance\", 4000.0, \"mm\", True)\\n        run.addProperty(\"beam_center_x\", 96.0, \"pixel\", True)\\n        run.addProperty(\"beam_center_y\", 128.0, \"pixel\", True)\\n        run.addProperty(\"wavelength_min\", 1.0, \"Angstrom\", True)\\n        run.addProperty(\"wavelength_max\", 11.0, \"Angstrom\", True)\\n        run.addProperty(\"is_frame_skipping\", 0, True)\\n        run.addProperty(\"wavelength_min_frame2\", 5.0, \"Angstrom\", True)\\n        run.addProperty(\"wavelength_max_frame2\", 10.0, \"Angstrom\", True)', metadata={'source': '/Users/8cz/Github/mantid/Framework/WorkflowAlgorithms/test/EQSANSQ2DTest.py', 'content_type': 'functions_classes', 'language': <Language.PYTHON: 'python'>}),\n",
      " Document(page_content='def tearDown(self):\\n        if self.test_ws_name in mtd:\\n            DeleteWorkspace(Workspace=self.test_ws_name)\\n\\n    def test_q2d(self):\\n        EQSANSQ2D(InputWorkspace=self.test_ws_name)\\n        ReplaceSpecialValues(\\n            InputWorkspace=self.test_ws_name + \"_Iqxy\", OutputWorkspace=self.test_ws_name + \"_Iqxy\", NaNValue=0, NaNError=0\\n        )\\n        Integration(InputWorkspace=self.test_ws_name + \"_Iqxy\", OutputWorkspace=\"__tmp\")\\n        SumSpectra(InputWorkspace=\"__tmp\", OutputWorkspace=\"summed\")\\n        self.assertAlmostEqual(mtd[\"summed\"].readY(0)[0], 7.24077, 6)\\n        for ws in [\"__tmp\", \"summed\"]:\\n            if mtd.doesExist(ws):\\n                DeleteWorkspace(Workspace=ws)', metadata={'source': '/Users/8cz/Github/mantid/Framework/WorkflowAlgorithms/test/EQSANSQ2DTest.py', 'content_type': 'functions_classes', 'language': <Language.PYTHON: 'python'>}),\n",
      " Document(page_content='# Mantid Repository : https://github.com/mantidproject/mantid\\n#\\n# Copyright &copy; 2018 ISIS Rutherford Appleton Laboratory UKRI,\\n#   NScD Oak Ridge National Laboratory, European Spallation Source,\\n#   Institut Laue - Langevin & CSNS, Institute of High Energy Physics, CAS\\n# SPDX - License - Identifier: GPL - 3.0 +\\nimport unittest\\nfrom mantid.simpleapi import *\\n\\n\\n# Code for: class EQSANSQ2DTest(unittest.TestCase):\\n\\n\\nif __name__ == \"__main__\":\\n    unittest.main()', metadata={'source': '/Users/8cz/Github/mantid/Framework/WorkflowAlgorithms/test/EQSANSQ2DTest.py', 'content_type': 'simplified_code', 'language': <Language.PYTHON: 'python'>}),\n",
      " Document(page_content='class SANSBeamFluxCorrectionTest(unittest.TestCase):\\n    def setUp(self):\\n\\n        self.test_ws_name = \"EQSANS_test_ws\"\\n        x = [1.0, 2.0, 3.0, 4.0, 5.0, 6.0, 7.0, 8.0, 9.0, 10.0, 11.0]\\n        y = 491520 * [0.1]\\n        CreateWorkspace(OutputWorkspace=self.test_ws_name, DataX=x, DataY=y, DataE=y, NSpec=\"49152\", UnitX=\"Wavelength\")\\n        LoadInstrument(self.test_ws_name, InstrumentName=\"EQSANS\", RewriteSpectraMap=True)\\n\\n        self.monitor = \"EQSANS_test_monitor_ws\"\\n        SumSpectra(InputWorkspace=self.test_ws_name, OutputWorkspace=self.monitor)\\n\\n    def tearDown(self):\\n        if AnalysisDataService.doesExist(self.test_ws_name):\\n            AnalysisDataService.remove(self.test_ws_name)\\n        if AnalysisDataService.doesExist(self.monitor):\\n            AnalysisDataService.remove(self.monitor)', metadata={'source': '/Users/8cz/Github/mantid/Framework/WorkflowAlgorithms/test/SANSBeamFluxCorrectionTest.py', 'content_type': 'functions_classes', 'language': <Language.PYTHON: 'python'>}),\n",
      " Document(page_content='def test_simple(self):\\n        output = SANSBeamFluxCorrection(\\n            InputWorkspace=self.test_ws_name, InputMonitorWorkspace=self.monitor, ReferenceFluxFilename=\"SANSBeamFluxCorrectionMonitor.nxs\"\\n        )\\n\\n        ref_value = 0.1 / (49152 * 0.1) / (49152 * 0.1)\\n        output_y = output[0].readY(0)\\n        self.assertAlmostEqual(ref_value, output_y[0], 6)\\n\\n    def test_in_place(self):\\n        output = SANSBeamFluxCorrection(\\n            InputWorkspace=self.test_ws_name,\\n            InputMonitorWorkspace=self.monitor,\\n            ReferenceFluxFilename=\"SANSBeamFluxCorrectionMonitor.nxs\",\\n            OutputWorkspace=self.test_ws_name,\\n        )\\n\\n        ref_value = 0.1 / (49152 * 0.1) / (49152 * 0.1)\\n        output_y = output[0].readY(0)\\n        self.assertAlmostEqual(ref_value, output_y[0], 6)', metadata={'source': '/Users/8cz/Github/mantid/Framework/WorkflowAlgorithms/test/SANSBeamFluxCorrectionTest.py', 'content_type': 'functions_classes', 'language': <Language.PYTHON: 'python'>})]\n"
     ]
    }
   ],
   "source": [
    "# print first 5 splits in each language\n",
    "print(\"C++ splits:\")\n",
    "pprint(splits_cxx[:5])\n",
    "print(\"Python splits:\")\n",
    "pprint(splits_py[:5])"
   ]
  },
  {
   "cell_type": "markdown",
   "metadata": {},
   "source": [
    "time to build the database"
   ]
  },
  {
   "cell_type": "code",
   "execution_count": 10,
   "metadata": {},
   "outputs": [],
   "source": [
    "ollama_emd = OllamaEmbeddings()"
   ]
  },
  {
   "cell_type": "code",
   "execution_count": 11,
   "metadata": {},
   "outputs": [],
   "source": [
    "# build the database\n",
    "chroma_db = Chroma.from_documents(\n",
    "    documents=docs_cxx + docs_py,\n",
    "    embedding=ollama_emd,\n",
    "    persist_directory=\"../vectorDB/mantid\",\n",
    ")"
   ]
  },
  {
   "cell_type": "code",
   "execution_count": null,
   "metadata": {},
   "outputs": [],
   "source": []
  }
 ],
 "metadata": {
  "kernelspec": {
   "display_name": "Python 3",
   "language": "python",
   "name": "python3"
  },
  "language_info": {
   "codemirror_mode": {
    "name": "ipython",
    "version": 3
   },
   "file_extension": ".py",
   "mimetype": "text/x-python",
   "name": "python",
   "nbconvert_exporter": "python",
   "pygments_lexer": "ipython3",
   "version": "3.11.8"
  }
 },
 "nbformat": 4,
 "nbformat_minor": 2
}
