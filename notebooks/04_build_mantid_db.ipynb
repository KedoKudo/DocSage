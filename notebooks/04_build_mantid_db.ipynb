{
 "cells": [
  {
   "cell_type": "markdown",
   "metadata": {},
   "source": [
    "# Overview\n",
    "\n",
    "This notebook is intended to build a Chroma database for working on the Mantid project."
   ]
  },
  {
   "cell_type": "code",
   "execution_count": 1,
   "metadata": {},
   "outputs": [],
   "source": [
    "from langchain_community.document_loaders.generic import GenericLoader\n",
    "from langchain_community.document_loaders.parsers import LanguageParser, BS4HTMLParser\n",
    "from langchain_text_splitters import Language, RecursiveCharacterTextSplitter\n",
    "from pprint import pprint\n",
    "from langchain_community.embeddings import OllamaEmbeddings\n",
    "from langchain.vectorstores import Chroma"
   ]
  },
  {
   "cell_type": "code",
   "execution_count": 2,
   "metadata": {},
   "outputs": [],
   "source": [
    "mantid_dir = \"/Users/8cz/Github/mantid/Framework\"\n",
    "mantiddoc_dir = \"/Users/8cz/Github/mantid/build/docs\"\n",
    "mantiddevdoc_dir = \"/Users/8cz/Github/mantid/build/dev-docs\""
   ]
  },
  {
   "cell_type": "code",
   "execution_count": 3,
   "metadata": {},
   "outputs": [],
   "source": [
    "loader_cxx = GenericLoader.from_filesystem(\n",
    "    mantid_dir,\n",
    "    glob=\"**/*\",\n",
    "    suffixes=[\".cpp\", \".h\", \".c\", \".hpp\", \".cxx\", \".hxx\", \".cc\", \".hh\"],\n",
    "    parser=LanguageParser(Language.CPP),\n",
    "    show_progress=True,\n",
    ")\n",
    "\n",
    "loader_py = GenericLoader.from_filesystem(\n",
    "    mantid_dir,\n",
    "    glob=\"**/*\",\n",
    "    suffixes=[\".py\"],\n",
    "    parser=LanguageParser(Language.PYTHON),\n",
    "    show_progress=True,\n",
    ")"
   ]
  },
  {
   "cell_type": "code",
   "execution_count": 4,
   "metadata": {},
   "outputs": [],
   "source": [
    "loader_doc = GenericLoader.from_filesystem(\n",
    "    mantiddoc_dir,\n",
    "    glob=\"**/*\",\n",
    "    suffixes=[\".html\"],\n",
    "    parser=BS4HTMLParser(),\n",
    "    show_progress=True,\n",
    ")"
   ]
  },
  {
   "cell_type": "code",
   "execution_count": 5,
   "metadata": {},
   "outputs": [],
   "source": [
    "loader_devdoc = GenericLoader.from_filesystem(\n",
    "    mantiddevdoc_dir,\n",
    "    glob=\"**/*\",\n",
    "    suffixes=[\".html\"],\n",
    "    parser=BS4HTMLParser(),\n",
    "    show_progress=True,\n",
    ")"
   ]
  },
  {
   "cell_type": "code",
   "execution_count": 6,
   "metadata": {},
   "outputs": [
    {
     "data": {
      "application/vnd.jupyter.widget-view+json": {
       "model_id": "cbe0fd9a5bc94d678868571b1888d2f8",
       "version_major": 2,
       "version_minor": 0
      },
      "text/plain": [
       "  0%|          | 0/5477 [00:00<?, ?it/s]"
      ]
     },
     "metadata": {},
     "output_type": "display_data"
    },
    {
     "name": "stderr",
     "output_type": "stream",
     "text": [
      "/Users/8cz/micromamba/envs/docsage/lib/python3.11/site-packages/tree_sitter/__init__.py:36: FutureWarning: Language(path, name) is deprecated. Use Language(ptr, name) instead.\n",
      "  warn(\"{} is deprecated. Use {} instead.\".format(old, new), FutureWarning)\n"
     ]
    }
   ],
   "source": [
    "docs_cxx = loader_cxx.load()"
   ]
  },
  {
   "cell_type": "code",
   "execution_count": 7,
   "metadata": {},
   "outputs": [
    {
     "data": {
      "application/vnd.jupyter.widget-view+json": {
       "model_id": "70a64dd99dbe48d9aa691b460ebaf882",
       "version_major": 2,
       "version_minor": 0
      },
      "text/plain": [
       "  0%|          | 0/967 [00:00<?, ?it/s]"
      ]
     },
     "metadata": {},
     "output_type": "display_data"
    }
   ],
   "source": [
    "docs_py = loader_py.load()"
   ]
  },
  {
   "cell_type": "code",
   "execution_count": 8,
   "metadata": {},
   "outputs": [
    {
     "data": {
      "application/vnd.jupyter.widget-view+json": {
       "model_id": "c5df78a41bee4fc09434d25fbbde7490",
       "version_major": 2,
       "version_minor": 0
      },
      "text/plain": [
       "  0%|          | 0/3246 [00:00<?, ?it/s]"
      ]
     },
     "metadata": {},
     "output_type": "display_data"
    }
   ],
   "source": [
    "docs_doc = loader_doc.load()"
   ]
  },
  {
   "cell_type": "code",
   "execution_count": 9,
   "metadata": {},
   "outputs": [
    {
     "data": {
      "application/vnd.jupyter.widget-view+json": {
       "model_id": "624ab6bf0ab244a29f0f21767f2049e7",
       "version_major": 2,
       "version_minor": 0
      },
      "text/plain": [
       "  0%|          | 0/160 [00:00<?, ?it/s]"
      ]
     },
     "metadata": {},
     "output_type": "display_data"
    }
   ],
   "source": [
    "docs_devdoc = loader_devdoc.load()"
   ]
  },
  {
   "cell_type": "code",
   "execution_count": 10,
   "metadata": {},
   "outputs": [],
   "source": [
    "splitter_cxx = RecursiveCharacterTextSplitter.from_language(\n",
    "    language=Language.CPP,\n",
    "    chunk_size=4096,\n",
    "    chunk_overlap=128,\n",
    ")"
   ]
  },
  {
   "cell_type": "code",
   "execution_count": 11,
   "metadata": {},
   "outputs": [],
   "source": [
    "splitter_py = RecursiveCharacterTextSplitter.from_language(\n",
    "    language=Language.PYTHON,\n",
    "    chunk_size=4096,\n",
    "    chunk_overlap=128,\n",
    ")"
   ]
  },
  {
   "cell_type": "code",
   "execution_count": 12,
   "metadata": {},
   "outputs": [],
   "source": [
    "splitter_doc = RecursiveCharacterTextSplitter.from_language(\n",
    "    language=Language.HTML,\n",
    "    chunk_size=4096,\n",
    "    chunk_overlap=128,\n",
    ")"
   ]
  },
  {
   "cell_type": "code",
   "execution_count": 13,
   "metadata": {},
   "outputs": [],
   "source": [
    "splitter_devdoc = RecursiveCharacterTextSplitter.from_language(\n",
    "    language=Language.HTML,\n",
    "    chunk_size=4096,\n",
    "    chunk_overlap=128,\n",
    ")"
   ]
  },
  {
   "cell_type": "code",
   "execution_count": 14,
   "metadata": {},
   "outputs": [],
   "source": [
    "splits_cxx = splitter_cxx.split_documents(docs_cxx)\n",
    "splits_py = splitter_py.split_documents(docs_py)\n",
    "splits_doc = splitter_doc.split_documents(docs_doc)\n",
    "splits_devdoc = splitter_devdoc.split_documents(docs_devdoc)"
   ]
  },
  {
   "cell_type": "code",
   "execution_count": 15,
   "metadata": {},
   "outputs": [
    {
     "name": "stdout",
     "output_type": "stream",
     "text": [
      "C++ splits:\n",
      "[Document(page_content='// Mantid Repository : https://github.com/mantidproject/mantid\\n//\\n// Copyright &copy; 2011 ISIS Rutherford Appleton Laboratory UKRI,\\n//   NScD Oak Ridge National Laboratory, European Spallation Source,\\n//   Institut Laue - Langevin & CSNS, Institute of High Energy Physics, CAS\\n// SPDX - License - Identifier: GPL - 3.0 +\\n#pragma once\\n\\n//----------------------------------------------------------------------\\n// Includes\\n//----------------------------------------------------------------------\\n#include \"MantidAPI/Algorithm.h\"\\n\\nnamespace Mantid {\\nnamespace WorkflowAlgorithms {\\n/**\\n    Calculate the detector sensitivity and patch the pixels that are masked in a\\n   second workspace.\\n*/\\nclass DLLExport EQSANSPatchSensitivity final : public API::Algorithm {\\npublic:\\n  /// Algorithm\\'s name\\n  const std::string name() const override { return \"EQSANSPatchSensitivity\"; }\\n  /// Summary of algorithms purpose\\n  const std::string summary() const override { return \"Patch EQSANS sensitivity correction.\"; }\\n  /// Algorithm\\'s version\\n  int version() const override { return (1); }\\n  /// Algorithm\\'s category for identification\\n  const std::string category() const override { return \"Workflow\\\\\\\\SANS\"; }\\n\\nprivate:\\n  /// Initialisation code\\n  void init() override;\\n  /// Execution code\\n  void exec() override;\\n};\\n\\n} // namespace WorkflowAlgorithms\\n} // namespace Mantid', metadata={'source': '/Users/8cz/Github/mantid/Framework/WorkflowAlgorithms/inc/MantidWorkflowAlgorithms/EQSANSPatchSensitivity.h'}),\n",
      " Document(page_content='// Mantid Repository : https://github.com/mantidproject/mantid\\n//\\n// Copyright &copy; 2013 ISIS Rutherford Appleton Laboratory UKRI,\\n//   NScD Oak Ridge National Laboratory, European Spallation Source,\\n//   Institut Laue - Langevin & CSNS, Institute of High Energy Physics, CAS\\n// SPDX - License - Identifier: GPL - 3.0 +\\n#pragma once\\n\\n#include \"MantidAPI/Algorithm.h\"\\n#include \"MantidDataObjects/EventWorkspace.h\"\\n#include \"MantidKernel/System.h\"\\n\\nnamespace Mantid {\\nnamespace WorkflowAlgorithms {\\n/** This workflow algorithm is for generation of a rocking curve from an\\n   alignment scan performed\\n    on an ADARA-enabled instrument at the SNS.\\n    An important thing to note about this algorithm is that it may modify the\\n   input workspace.\\n*/\\nclass DLLExport StepScan final : public API::Algorithm {\\npublic:\\n  const std::string name() const override;\\n  /// Summary of algorithms purpose\\n  const std::string summary() const override {\\n    return \"Workflow algorithm for analysis of an alignment scan from an SNS \"\\n           \"Adara-enabled beam line\";\\n  }\\n\\n  int version() const override;\\n  const std::string category() const override;\\n\\nprivate:\\n  void init() override;\\n  void exec() override;\\n\\n  DataObjects::EventWorkspace_sptr getMonitorWorkspace(const API::MatrixWorkspace_sptr &inputWS);\\n  DataObjects::EventWorkspace_sptr cloneInputWorkspace(const API::Workspace_sptr &inputWS);\\n  void runMaskDetectors(const API::MatrixWorkspace_sptr &inputWS, const API::MatrixWorkspace_sptr &maskWS);\\n  void runFilterByXValue(const API::MatrixWorkspace_sptr &inputWS, const double xmin, const double xmax);\\n};\\n\\n} // namespace WorkflowAlgorithms\\n} // namespace Mantid', metadata={'source': '/Users/8cz/Github/mantid/Framework/WorkflowAlgorithms/inc/MantidWorkflowAlgorithms/StepScan.h'}),\n",
      " Document(page_content='// Mantid Repository : https://github.com/mantidproject/mantid\\n//\\n// Copyright &copy; 2018 ISIS Rutherford Appleton Laboratory UKRI,\\n//   NScD Oak Ridge National Laboratory, European Spallation Source,\\n//   Institut Laue - Langevin & CSNS, Institute of High Energy Physics, CAS\\n// SPDX - License - Identifier: GPL - 3.0 +\\n#pragma once\\n\\n//----------------------------------------------------------------------\\n// Includes\\n//----------------------------------------------------------------------\\n#include \"MantidAPI/Algorithm.h\"\\n\\nnamespace Mantid {\\nnamespace WorkflowAlgorithms {\\n/**\\n\\n    Performs a solid angle correction on a 2D SANS data set to correct\\n    for the absence of curvature of the detector.\\n\\n    Note: one could use SolidAngle to perform this calculation. Solid Angle\\n    returns the solid angle of each detector pixel, but that approach requires\\n   more un-necessary calculations.\\n\\n    In the contrary, this algorithm performs analytical correction as follows:\\n      Omega(theta) = Omega(0) cos^3(theta)\\n      where Omega is the solid angle.\\n     so we simply apply the\\n   cos^3(theta).\\n\\n    Brulet et al, J. Appl. Cryst. (2007) 40, 165-177.\\n    See equation 22.\\n\\n    Required Properties:\\n    <UL>\\n    <LI> InputWorkspace    - The data in units of wavelength. </LI>\\n    <LI> OutputWorkspace   - The workspace in which to store the result\\n   histogram. </LI>\\n    </UL>\\n\\n    File change history is stored at: <https://github.com/mantidproject/mantid>\\n    Code Documentation is available at: <http://doxygen.mantidproject.org>\\n*/\\nclass DLLExport SANSSolidAngleCorrection final : public API::Algorithm {\\npublic:\\n  /// Algorithm\\'s name\\n  const std::string name() const override { return \"SANSSolidAngleCorrection\"; }\\n  /// Summary of algorithms purpose\\n  const std::string summary() const override { return \"Performs solid angle correction on SANS 2D data.\"; }\\n  /// Algorithm\\'s version\\n  int version() const override { return (1); }\\n  const std::vector<std::string> seeAlso() const override { return {\"SolidAngle\", \"SANSBeamFluxCorrection\"}; }\\n  /// Algorithm\\'s category for identification\\n  const std::string category() const override {\\n    return \"Workflow\\\\\\\\SANS\\\\\\\\UsesPropertyManager;\"\\n           \"CorrectionFunctions\\\\\\\\InstrumentCorrections\";\\n  }\\n\\nprivate:\\n  /// Initialisation code\\n  void init() override;\\n  /// Execution code\\n  void exec() override;\\n  void execEvent();\\n};\\n\\n} // namespace WorkflowAlgorithms\\n} // namespace Mantid', metadata={'source': '/Users/8cz/Github/mantid/Framework/WorkflowAlgorithms/inc/MantidWorkflowAlgorithms/SANSSolidAngleCorrection.h'}),\n",
      " Document(page_content='// Mantid Repository : https://github.com/mantidproject/mantid\\n//\\n// Copyright &copy; 2015 ISIS Rutherford Appleton Laboratory UKRI,\\n//   NScD Oak Ridge National Laboratory, European Spallation Source,\\n//   Institut Laue - Langevin & CSNS, Institute of High Energy Physics, CAS\\n// SPDX - License - Identifier: GPL - 3.0 +\\n#pragma once\\n\\n#include \"MantidAPI/AlgorithmManager.h\"\\n#include \"MantidAPI/MatrixWorkspace.h\"\\n#include \"MantidAPI/WorkspaceGroup.h\"\\n\\n#include <vector>\\n\\nnamespace Mantid {\\nnamespace WorkflowAlgorithms {\\n\\n/** IMuonAsymmetryCalculator : Abstract base class for muon asymmetry\\n  calculations\\n*/\\nclass DLLExport IMuonAsymmetryCalculator {\\npublic:\\n  IMuonAsymmetryCalculator(API::WorkspaceGroup_sptr inputWS, std::vector<int> summedPeriods,\\n                           std::vector<int> subtractedPeriods);\\n  virtual ~IMuonAsymmetryCalculator() = default;\\n  /// Overridden in derived classes to perform asymmetry calculation\\n  virtual API::MatrixWorkspace_sptr calculate() const = 0;\\n\\nprotected:\\n  /// Sums the specified periods in the input workspace group\\n  API::MatrixWorkspace_sptr sumPeriods(const std::vector<int> &periodsToSum) const;\\n\\n  /// Subtracts one workspace from another (lhs - rhs)\\n  API::MatrixWorkspace_sptr subtractWorkspaces(const API::MatrixWorkspace_sptr &lhs,\\n                                               const API::MatrixWorkspace_sptr &rhs) const;\\n\\n  /// Extracts a single spectrum from a workspace\\n  API::MatrixWorkspace_sptr extractSpectrum(const API::Workspace_sptr &inputWS, const int index) const;\\n\\n  /// Input workspace\\n  const API::WorkspaceGroup_sptr m_inputWS;\\n\\n  /// List of summed periods\\n  const std::vector<int> m_summedPeriods;\\n\\n  /// List of subtracted periods\\n  const std::vector<int> m_subtractedPeriods;\\n};\\n\\n} // namespace WorkflowAlgorithms\\n} // namespace Mantid', metadata={'source': '/Users/8cz/Github/mantid/Framework/WorkflowAlgorithms/inc/MantidWorkflowAlgorithms/IMuonAsymmetryCalculator.h'}),\n",
      " Document(page_content='// Mantid Repository : https://github.com/mantidproject/mantid\\n//\\n// Copyright &copy; 2015 ISIS Rutherford Appleton Laboratory UKRI,\\n//   NScD Oak Ridge National Laboratory, European Spallation Source,\\n//   Institut Laue - Langevin & CSNS, Institute of High Energy Physics, CAS\\n// SPDX - License - Identifier: GPL - 3.0 +\\n#pragma once\\n\\n#include \"MantidWorkflowAlgorithms/MuonGroupCalculator.h\"\\n\\nnamespace Mantid {\\nnamespace WorkflowAlgorithms {\\n\\n/** MuonGroupCountsCalculator : Calculates pure counts of the group specified\\n  via group index\\n*/\\nclass DLLExport MuonGroupCountsCalculator : public MuonGroupCalculator {\\npublic:\\n  MuonGroupCountsCalculator(const Mantid::API::WorkspaceGroup_sptr &inputWS, const std::vector<int> &summedPeriods,\\n                            const std::vector<int> &subtractedPeriods, const int groupIndex);\\n  /// Performs group counts calculation\\n  Mantid::API::MatrixWorkspace_sptr calculate() const override;\\n};\\n\\n} // namespace WorkflowAlgorithms\\n} // namespace Mantid', metadata={'source': '/Users/8cz/Github/mantid/Framework/WorkflowAlgorithms/inc/MantidWorkflowAlgorithms/MuonGroupCountsCalculator.h'})]\n",
      "Python splits:\n",
      "[Document(page_content='class EQSANSQ2DTest(unittest.TestCase):\\n    def setUp(self):\\n\\n        self.test_ws_name = \"EQSANS_test_ws\"\\n        x = [1.0, 2.0, 3.0, 4.0, 5.0, 6.0, 7.0, 8.0, 9.0, 10.0, 11.0]\\n        y = 491520 * [0.1]\\n        CreateWorkspace(OutputWorkspace=self.test_ws_name, DataX=x, DataY=y, DataE=y, NSpec=\"49152\", UnitX=\"Wavelength\")\\n        LoadInstrument(Workspace=self.test_ws_name, InstrumentName=\"EQSANS\", RewriteSpectraMap=True)\\n\\n        run = mtd[self.test_ws_name].mutableRun()\\n\\n        run.addProperty(\"sample_detector_distance\", 4000.0, \"mm\", True)\\n        run.addProperty(\"beam_center_x\", 96.0, \"pixel\", True)\\n        run.addProperty(\"beam_center_y\", 128.0, \"pixel\", True)\\n        run.addProperty(\"wavelength_min\", 1.0, \"Angstrom\", True)\\n        run.addProperty(\"wavelength_max\", 11.0, \"Angstrom\", True)\\n        run.addProperty(\"is_frame_skipping\", 0, True)\\n        run.addProperty(\"wavelength_min_frame2\", 5.0, \"Angstrom\", True)\\n        run.addProperty(\"wavelength_max_frame2\", 10.0, \"Angstrom\", True)\\n\\n    def tearDown(self):\\n        if self.test_ws_name in mtd:\\n            DeleteWorkspace(Workspace=self.test_ws_name)\\n\\n    def test_q2d(self):\\n        EQSANSQ2D(InputWorkspace=self.test_ws_name)\\n        ReplaceSpecialValues(\\n            InputWorkspace=self.test_ws_name + \"_Iqxy\", OutputWorkspace=self.test_ws_name + \"_Iqxy\", NaNValue=0, NaNError=0\\n        )\\n        Integration(InputWorkspace=self.test_ws_name + \"_Iqxy\", OutputWorkspace=\"__tmp\")\\n        SumSpectra(InputWorkspace=\"__tmp\", OutputWorkspace=\"summed\")\\n        self.assertAlmostEqual(mtd[\"summed\"].readY(0)[0], 7.24077, 6)\\n        for ws in [\"__tmp\", \"summed\"]:\\n            if mtd.doesExist(ws):\\n                DeleteWorkspace(Workspace=ws)', metadata={'source': '/Users/8cz/Github/mantid/Framework/WorkflowAlgorithms/test/EQSANSQ2DTest.py', 'content_type': 'functions_classes', 'language': <Language.PYTHON: 'python'>}),\n",
      " Document(page_content='# Mantid Repository : https://github.com/mantidproject/mantid\\n#\\n# Copyright &copy; 2018 ISIS Rutherford Appleton Laboratory UKRI,\\n#   NScD Oak Ridge National Laboratory, European Spallation Source,\\n#   Institut Laue - Langevin & CSNS, Institute of High Energy Physics, CAS\\n# SPDX - License - Identifier: GPL - 3.0 +\\nimport unittest\\nfrom mantid.simpleapi import *\\n\\n\\n# Code for: class EQSANSQ2DTest(unittest.TestCase):\\n\\n\\nif __name__ == \"__main__\":\\n    unittest.main()', metadata={'source': '/Users/8cz/Github/mantid/Framework/WorkflowAlgorithms/test/EQSANSQ2DTest.py', 'content_type': 'simplified_code', 'language': <Language.PYTHON: 'python'>}),\n",
      " Document(page_content='class SANSBeamFluxCorrectionTest(unittest.TestCase):\\n    def setUp(self):\\n\\n        self.test_ws_name = \"EQSANS_test_ws\"\\n        x = [1.0, 2.0, 3.0, 4.0, 5.0, 6.0, 7.0, 8.0, 9.0, 10.0, 11.0]\\n        y = 491520 * [0.1]\\n        CreateWorkspace(OutputWorkspace=self.test_ws_name, DataX=x, DataY=y, DataE=y, NSpec=\"49152\", UnitX=\"Wavelength\")\\n        LoadInstrument(self.test_ws_name, InstrumentName=\"EQSANS\", RewriteSpectraMap=True)\\n\\n        self.monitor = \"EQSANS_test_monitor_ws\"\\n        SumSpectra(InputWorkspace=self.test_ws_name, OutputWorkspace=self.monitor)\\n\\n    def tearDown(self):\\n        if AnalysisDataService.doesExist(self.test_ws_name):\\n            AnalysisDataService.remove(self.test_ws_name)\\n        if AnalysisDataService.doesExist(self.monitor):\\n            AnalysisDataService.remove(self.monitor)\\n\\n    def test_simple(self):\\n        output = SANSBeamFluxCorrection(\\n            InputWorkspace=self.test_ws_name, InputMonitorWorkspace=self.monitor, ReferenceFluxFilename=\"SANSBeamFluxCorrectionMonitor.nxs\"\\n        )\\n\\n        ref_value = 0.1 / (49152 * 0.1) / (49152 * 0.1)\\n        output_y = output[0].readY(0)\\n        self.assertAlmostEqual(ref_value, output_y[0], 6)\\n\\n    def test_in_place(self):\\n        output = SANSBeamFluxCorrection(\\n            InputWorkspace=self.test_ws_name,\\n            InputMonitorWorkspace=self.monitor,\\n            ReferenceFluxFilename=\"SANSBeamFluxCorrectionMonitor.nxs\",\\n            OutputWorkspace=self.test_ws_name,\\n        )\\n\\n        ref_value = 0.1 / (49152 * 0.1) / (49152 * 0.1)\\n        output_y = output[0].readY(0)\\n        self.assertAlmostEqual(ref_value, output_y[0], 6)', metadata={'source': '/Users/8cz/Github/mantid/Framework/WorkflowAlgorithms/test/SANSBeamFluxCorrectionTest.py', 'content_type': 'functions_classes', 'language': <Language.PYTHON: 'python'>}),\n",
      " Document(page_content='# Mantid Repository : https://github.com/mantidproject/mantid\\n#\\n# Copyright &copy; 2018 ISIS Rutherford Appleton Laboratory UKRI,\\n#   NScD Oak Ridge National Laboratory, European Spallation Source,\\n#   Institut Laue - Langevin & CSNS, Institute of High Energy Physics, CAS\\n# SPDX - License - Identifier: GPL - 3.0 +\\nimport unittest\\nfrom mantid.simpleapi import *\\n\\n\\n# Code for: class SANSBeamFluxCorrectionTest(unittest.TestCase):\\n\\n\\nif __name__ == \"__main__\":\\n    unittest.main()', metadata={'source': '/Users/8cz/Github/mantid/Framework/WorkflowAlgorithms/test/SANSBeamFluxCorrectionTest.py', 'content_type': 'simplified_code', 'language': <Language.PYTHON: 'python'>}),\n",
      " Document(page_content='# -*- coding: utf-8 -*-\\n# Mantid Repository : https://github.com/mantidproject/mantid\\n#\\n# Copyright &copy; 2018 ISIS Rutherford Appleton Laboratory UKRI,\\n#     NScD Oak Ridge National Laboratory, European Spallation Source\\n#     & Institut Laue - Langevin\\n# SPDX - License - Identifier: GPL - 3.0 +\\n#  This file is part of the mantid workbench.\\nimport os\\nfrom setuptools import find_packages, setup\\n\\n\\n# The most basic setup possible to be able to use pip develop/install\\nsetup(\\n    name=\"mantid\",\\n    version=os.environ[\"MANTID_VERSION_STR\"],\\n    packages=find_packages(exclude=[\"*.test\", \"plugins*\"]),\\n    package_data={\"\": [\"*.ui\"]},\\n)', metadata={'source': '/Users/8cz/Github/mantid/Framework/PythonInterface/setup.py', 'content_type': 'simplified_code', 'language': <Language.PYTHON: 'python'>})]\n",
      "HTML doc splits:\n",
      "[Document(page_content='Mantid\\n\\n\\n\\n\\n\\n\\n\\n\\n\\n\\n\\n\\n\\n\\n\\n\\n\\n\\n\\n\\n\\n\\n\\n\\n\\n6.9\\n\\n\\n\\n\\nHome\\nDownload\\nDocumentation\\nContact Us\\n\\n\\n\\n\\n\\n\\n\\n\\n\\n\\n\\n\\nNavigation\\n\\nDocumentation »\\n\\n\\n\\n\\n\\n\\n\\\\(\\\\renewcommand\\\\AA{\\\\unicode{x212B}}\\\\)\\n\\n\\n\\nMantid¶\\nThe Mantid Framework has been created to visualise, manipulate and analyse neutron and muon scattering data.\\nMantid can be used though several Graphical User Interfaces (GUI) and programming languages, including:\\n\\nMantidWorkbench, A modern general-purpose interface supporting a wide range of techniques and visualisation approaches.\\nAutoreduction services at specific facilities, including ISIS and the SNS.\\nAPI’s for Python and C++.\\n\\n\\nDocumentation¶\\n\\nThis is the documentation for Mantid 6.9.20240320.1649.dev15.\\n\\nGetting Started:\\nMantid Basic Course, takes you through installing and basic use of Mantid through MantidWorkbench, including loading, visualising and fitting data.\\nTraining, links to further self paced courses and learning resources.\\nMantid Matplotlib Plot Gallery and Examples, details of how to make pretty plots and manipulate them via Python.\\nMuon Training, focuses on the reduction and analysis of muon data collected from any of the ISIS Muon spectrometers via a Graphical User Interface (GUI).\\n\\n\\nReference Documentation:\\nAlgorithms, specific details for all of our algorithms including descriptions of all inputs and parameters .\\nWorkbench provides details on the new graphical user interface with matplotlib-based plotting.\\nConcepts, deeper background information on the fundamental concepts within Mantid.\\nInterfaces, descriptions of the bespoke technique interfaces available.\\nFitting Overview, details of all the supported fitting functions and minimization approaches.\\nTechniques, with further information relevant to some of the specific scientific techniques.\\nAPI’s for Python and C++.\\nRelease Notes, a catalog of all of the release notes since v3.5.2.\\n\\n\\nOther Help and Documentation:\\nA forum, to ask for help, report issues, and discuss with other Mantid users.\\nA built in error-reporter. We really encourage you to use this, as it helps us to make Mantid more stable in future.\\nDeveloper Documentation\\n\\n\\n\\n\\n\\n\\n\\n\\n\\n\\n\\n\\nTraining »\\n\\n\\nBack to top', metadata={'source': '/Users/8cz/Github/mantid/build/docs/html/index.html', 'title': 'Mantid'}),\n",
      " Document(page_content='Python Module Index\\n\\n\\n\\n\\n\\n\\n\\n\\n\\n\\n\\n\\n\\n\\n\\n\\n\\n\\n\\n\\n\\n\\n\\n6.9\\n\\n\\n\\n\\nHome\\nDownload\\nDocumentation\\nContact Us\\n\\n\\n\\n\\n\\n\\n\\n\\n\\n\\n\\n\\nNavigation\\n\\nDocumentation »\\nPython Module Index\\n\\n\\n\\n\\n\\n\\nPython Module Index\\n\\nd | \\n   e | \\n   m | \\n   t\\n\\n\\n\\xa0\\n\\nd\\n\\n\\n\\ndirecttools\\n\\n\\xa0\\n\\ne\\n\\n\\n\\nExamples\\n\\n\\n\\n\\xa0\\xa0\\xa0\\n       Examples.TubeCalibDemoMaps_All\\n\\n\\n\\n\\xa0\\xa0\\xa0\\n       Examples.TubeCalibDemoMerlin\\n\\n\\xa0\\n\\nm\\n\\n\\n\\nmantid\\n\\n\\n\\n\\xa0\\xa0\\xa0\\n       mantid.api\\n\\n\\n\\n\\xa0\\xa0\\xa0\\n       mantid.fitfunctions\\n\\n\\n\\n\\xa0\\xa0\\xa0\\n       mantid.fixtures\\n\\n\\n\\n\\xa0\\xa0\\xa0\\n       mantid.geometry\\n\\n\\n\\n\\xa0\\xa0\\xa0\\n       mantid.kernel\\n\\n\\n\\n\\xa0\\xa0\\xa0\\n       mantid.kernel.AmendConfig\\n\\n\\n\\n\\xa0\\xa0\\xa0\\n       mantid.plots.axesfunctions\\n\\n\\n\\n\\xa0\\xa0\\xa0\\n       mantid.plots.axesfunctions3D\\n\\n\\n\\n\\xa0\\xa0\\xa0\\n       mantid.plots.datafunctions\\n\\n\\n\\n\\xa0\\xa0\\xa0\\n       mantid.simpleapi\\n\\n\\n\\n\\xa0\\xa0\\xa0\\n       mantid.testing\\n\\n\\n\\n\\xa0\\xa0\\xa0\\n       mantid.testing.assert_almost_equal\\n\\n\\xa0\\n\\nt\\n\\n\\n\\ntube\\n\\n\\n\\n\\ntube_calib\\n\\n\\n\\n\\n\\n\\n\\n\\nBack to top', metadata={'source': '/Users/8cz/Github/mantid/build/docs/html/py-modindex.html', 'title': 'Python Module Index'}),\n",
      " Document(page_content='Index\\n\\n\\n\\n\\n\\n\\n\\n\\n\\n\\n\\n\\n\\n\\n\\n\\n\\n\\n\\n\\n\\n\\n\\n6.9\\n\\n\\n\\n\\nHome\\nDownload\\nDocumentation\\nContact Us\\n\\n\\n\\n\\n\\n\\n\\n\\n\\n\\n\\n\\nNavigation\\n\\nDocumentation »\\nIndex\\n\\n\\n\\n\\n\\n\\nIndex\\n\\n_\\n | A\\n | B\\n | C\\n | D\\n | E\\n | F\\n | G\\n | H\\n | I\\n | J\\n | K\\n | L\\n | M\\n | N\\n | O\\n | P\\n | Q\\n | R\\n | S\\n | T\\n | U\\n | V\\n | W\\n | X\\n | Y\\n | Z\\n\\n_\\n\\n\\n__init__() (directtools.SampleLogs method)\\n\\n\\n\\nA\\n\\n\\na() (mantid.geometry.OrientedLattice method)\\n\\n(mantid.geometry.UnitCell method)\\n\\n\\na1() (mantid.geometry.OrientedLattice method)\\n\\n(mantid.geometry.UnitCell method)\\n\\n\\na2() (mantid.geometry.OrientedLattice method)\\n\\n(mantid.geometry.UnitCell method)\\n\\n\\na3() (mantid.geometry.OrientedLattice method)\\n\\n(mantid.geometry.UnitCell method)\\n\\n\\na_number (mantid.kernel.Atom property)\\n\\nAbins-v1\\n\\nAbins2D-v1\\n\\nAbragam\\n\\nabsorbXSection() (mantid.kernel.Material method)\\n\\nAbsorptionCorrection-v1\\n\\nabundance (mantid.kernel.Atom property)\\n\\naccumulate() (mantid.kernel.Logger method)\\n\\nAccumulateMD-v1\\n\\nActivationK\\n\\nActivationmeV\\n\\nadd() (mantid.api.AnalysisDataServiceImpl method)\\n\\n(mantid.api.WorkspaceGroup method)\\n\\n(mantid.kernel.CompositeValidator method)\\n\\n(mantid.kernel.PropertyManagerDataServiceImpl method)\\n\\n\\nAddAbsorptionWeightedPathLengths-v1\\n\\naddAllowedValue() (mantid.kernel.IntListValidator method)\\n\\n(mantid.kernel.StringListValidator method)\\n\\n\\naddColumn() (mantid.api.IPeaksWorkspace method)\\n\\n(mantid.api.ITableWorkspace method)\\n\\n\\naddConstraints() (mantid.api.IFunction method)\\n\\n(mantid.api.IFunction1D method)\\n\\n(mantid.api.IPeakFunction method)\\n\\n\\naddDetectorID() (mantid.api.IEventList method)\\n\\n(mantid.api.ISpectrum method)\\n\\n\\naddExperimentInfo() (mantid.api.IMDEventWorkspace method)\\n\\n(mantid.api.IMDHistoWorkspace method)\\n\\n(mantid.api.MultipleExperimentInfos method)\\n\\n\\naddFilter() (mantid.kernel.LogFilter method)\\n\\nAddLogDerivative-v1\\n\\nAddNote-v1\\n\\naddOrReplace() (mantid.api.AnalysisDataServiceImpl method)\\n\\n(mantid.kernel.PropertyManagerDataServiceImpl method)\\n\\n\\naddPeak() (mantid.api.IPeaksWorkspace method)\\n\\nAddPeak-v1\\n\\nAddPeakHKL-v1\\n\\naddProperty() (mantid.api.Run method)\\n\\naddPulsetime() (mantid.api.IEventList method)\\n\\naddPulsetimes() (mantid.api.IEventList method)\\n\\naddReadOnlyColumn() (mantid.api.IPeaksWorkspace method)\\n\\n(mantid.api.ITableWorkspace method)\\n\\n\\naddress() (mantid.kernel.LiveListenerInfo method)\\n\\naddRow() (mantid.api.IPeaksWorkspace method)\\n\\n(mantid.api.ITableWorkspace method)\\n\\n\\nAddSampleLog-v1\\n\\nAddSampleLogMultiple-v1\\n\\naddTies() (mantid.api.IFunction method)\\n\\n(mantid.api.IFunction1D method)\\n\\n(mantid.api.IPeakFunction method)\\n\\n\\nAddTimeSeriesLog-v1\\n\\naddTof() (mantid.api.IEventList method)\\n\\naddToGroup() (mantid.api.AnalysisDataServiceImpl method)\\n\\naddValue() (mantid.kernel.BoolFilteredTimeSeriesProperty method)\\n\\n(mantid.kernel.BoolTimeSeriesProperty method)\\n\\n(mantid.kernel.FloatFilteredTimeSeriesProperty method)\\n\\n(mantid.kernel.FloatTimeSeriesProperty method)\\n\\n(mantid.kernel.Int32FilteredTimeSeriesProperty method)\\n\\n(mantid.kernel.Int32TimeSeriesProperty method)\\n\\n(mantid.kernel.Int64FilteredTimeSeriesProperty method)\\n\\n(mantid.kernel.Int64TimeSeriesProperty method)\\n\\n(mantid.kernel.StringFilteredTimeSeriesProperty method)\\n\\n(mantid.kernel.StringTimeSeriesProperty method)\\n\\n\\naddWorkspace() (mantid.api.WorkspaceGroup method)\\n\\nAFMLF\\n\\nAFMZF\\n\\nAlgorithm (class in mantid.api)\\n\\nAlgorithmFactoryImpl (class in mantid.api)\\n\\nAlgorithmHistory (class in mantid.api)\\n\\nAlgorithmID (class in mantid.api)\\n\\nAlgorithmManagerImpl (class in mantid.api)\\n\\nAlgorithmProperty (class in mantid.api)\\n\\nAlgorithmPropertyWithValue (class in mantid.api)\\n\\nalias() (mantid.api.Algorithm method)\\n\\n(mantid.api.DataProcessorAlgorithm method)\\n\\n(mantid.api.IAlgorithm method)\\n\\n\\naliasDeprecated() (mantid.api.Algorithm method)\\n\\n(mantid.api.DataProcessorAlgorithm method)\\n\\n(mantid.api.IAlgorithm method)\\n\\n\\nAlignAndFocusPowder-v1\\n\\nAlignAndFocusPowderFromFiles-v1\\n\\nAlignComponents-v1\\n\\nAlignDetectors-v1\\n\\nallowedValues (mantid.api.AlgorithmProperty property)\\n\\n(mantid.api.AlgorithmPropertyWithValue property)\\n\\n(mantid.api.FileProperty property)\\n\\n(mantid.api.FunctionProperty property)\\n\\n(mantid.api.FunctionPropertyWithValue property)\\n\\n(mantid.api.IEventWorkspaceProperty property)\\n\\n(man', metadata={'source': '/Users/8cz/Github/mantid/build/docs/html/genindex.html', 'title': 'Index'}),\n",
      " Document(page_content='FunctionProperty property)\\n\\n(mantid.api.FunctionPropertyWithValue property)\\n\\n(mantid.api.IEventWorkspaceProperty property)\\n\\n(mantid.api.IEventWorkspacePropertyPropertyWithValue property)\\n\\n(mantid.api.IMDHistoWorkspaceProperty property)\\n\\n(mantid.api.IMDHistoWorkspacePropertyPropertyWithValue property)\\n\\n(mantid.api.IPeaksWorkspaceProperty property)\\n\\n(mantid.api.ITableWorkspaceProperty property)\\n\\n(mantid.api.ITableWorkspacePropertyPropertyWithValue property)\\n\\n(mantid.api.MatrixWorkspaceProperty property)\\n\\n(mantid.api.MatrixWorkspacePropertyPropertyWithValue property)\\n\\n(mantid.api.MultipleFileProperty property)\\n\\n(mantid.api.VectorVectorStringPropertyWithValue property)\\n\\n(mantid.api.WorkspaceGroupProperty property)\\n\\n(mantid.api.WorkspaceGroupPropertyPropertyWithValue property)\\n\\n(mantid.api.WorkspaceProperty property)\\n\\n(mantid.api.WorkspacePropertyPropertyWithValue property)\\n\\n(mantid.kernel.BoolFilteredTimeSeriesProperty property)\\n\\n(mantid.kernel.BoolPropertyWithValue property)\\n\\n(mantid.kernel.BoolTimeSeriesProperty property)\\n\\n(mantid.kernel.CIntArrayProperty property)\\n\\n(mantid.kernel.FloatArrayProperty property)\\n\\n(mantid.kernel.FloatFilteredTimeSeriesProperty property)\\n\\n(mantid.kernel.FloatPropertyWithValue property)\\n\\n(mantid.kernel.FloatTimeSeriesProperty property)\\n\\n(mantid.kernel.Int32FilteredTimeSeriesProperty property)\\n\\n(mantid.kernel.Int32TimeSeriesProperty property)\\n\\n(mantid.kernel.Int64FilteredTimeSeriesProperty property)\\n\\n(mantid.kernel.Int64TimeSeriesProperty property)\\n\\n(mantid.kernel.IntArrayProperty property)\\n\\n(mantid.kernel.IntPropertyWithValue property)\\n\\n(mantid.kernel.LongLongPropertyWithValue property)\\n\\n(mantid.kernel.LongPropertyWithValue property)\\n\\n(mantid.kernel.Property property)\\n\\n(mantid.kernel.StringArrayProperty property)\\n\\n(mantid.kernel.StringFilteredTimeSeriesProperty property)\\n\\n(mantid.kernel.StringPropertyWithValue property)\\n\\n(mantid.kernel.StringTimeSeriesProperty property)\\n\\n(mantid.kernel.UIntPropertyWithValue property)\\n\\n(mantid.kernel.ULongLongPropertyWithValue property)\\n\\n(mantid.kernel.ULongPropertyWithValue property)\\n\\n(mantid.kernel.UnsignedIntArrayProperty property)\\n\\n(mantid.kernel.VectorBoolPropertyWithValue property)\\n\\n(mantid.kernel.VectorFloatPropertyWithValue property)\\n\\n(mantid.kernel.VectorIntPropertyWithValue property)\\n\\n(mantid.kernel.VectorLongLongPropertyWithValue property)\\n\\n(mantid.kernel.VectorLongPropertyWithValue property)\\n\\n(mantid.kernel.VectorStringPropertyWithValue property)\\n\\n(mantid.kernel.VectorUIntPropertyWithValue property)\\n\\n(mantid.kernel.VectorULongLongPropertyWithValue property)\\n\\n(mantid.kernel.VectorULongPropertyWithValue property)\\n\\n\\n\\n\\nalpha() (mantid.geometry.OrientedLattice method)\\n\\n(mantid.geometry.UnitCell method)\\n\\n\\nalpha1() (mantid.geometry.OrientedLattice method)\\n\\n(mantid.geometry.UnitCell method)\\n\\n\\nalpha2() (mantid.geometry.OrientedLattice method)\\n\\n(mantid.geometry.UnitCell method)\\n\\n\\nalpha3() (mantid.geometry.OrientedLattice method)\\n\\n(mantid.geometry.UnitCell method)\\n\\n\\nAlphaCalc-v1\\n\\nalphastar() (mantid.geometry.OrientedLattice method)\\n\\n(mantid.geometry.UnitCell method)\\n\\n\\namend_config() (in module mantid.kernel.AmendConfig)\\n\\nAnalysisDataServiceImpl (class in mantid.api)\\n\\nAndMD-v1\\n\\nangle() (mantid.kernel.V3D method)\\n\\n(mantid.kernel.VMD method)\\n\\n\\nAngleUnits (class in mantid.geometry)\\n\\nAngularAutoCorrelationsSingleAxis-v1\\n\\nAngularAutoCorrelationsTwoAxes-v1\\n\\nAnnularRingAbsorption-v1\\n\\nAnvredCorrection-v1\\n\\napiVersion() (in module mantid)\\n\\nappend() (mantid.kernel.std_set_int method)\\n\\n(mantid.kernel.std_set_str method)\\n\\n(mantid.kernel.std_vector_bool method)\\n\\n(mantid.kernel.std_vector_dateandtime method)\\n\\n(mantid.kernel.std_vector_dbl method)\\n\\n(mantid.kernel.std_vector_facilityinfo method)\\n\\n(mantid.kernel.std_vector_InstrumentInfo method)\\n\\n(mantid.kernel.std_vector_int method)\\n\\n(mantid.kernel.std_vector_long method)\\n\\n(mantid.kernel.std_vector_property method)\\n\\n(mantid.kernel.std_vector_size_t method)\\n\\n(mantid.kernel.std_vector_str method)\\n\\n\\nappendDataSearchDir() (mantid.kernel.ConfigServiceImpl method)\\n\\nappendDataSearchSubDir() (mantid.kernel.ConfigServiceImpl method)\\n\\nAppe', metadata={'source': '/Users/8cz/Github/mantid/build/docs/html/genindex.html', 'title': 'Index'}),\n",
      " Document(page_content='ataSearchDir() (mantid.kernel.ConfigServiceImpl method)\\n\\nappendDataSearchSubDir() (mantid.kernel.ConfigServiceImpl method)\\n\\nAppendSpectra-v1\\n\\napplyBinEdgesFromAnotherWorkspace() (mantid.api.IEventWorkspace method)\\n\\n(mantid.api.MatrixWorkspace method)\\n\\n\\nApplyCalibration-v1\\n\\nApplyDeadTimeCorr-v1\\n\\nApplyDetailedBalance-v1\\n\\nApplyDetailedBalanceMD-v1\\n\\nApplyDetectorScanEffCorr-v1\\n\\nApplyDiffCal-v1\\n\\nApplyFloodWorkspace-v1\\n\\nApplyInstrumentToPeaks-v1\\n\\nApplyMuonDetectorGrouping-v1\\n\\nApplyMuonDetectorGroupPairing-v1\\n\\nApplyPaalmanPingsCorrection-v1\\n\\napplyPointsFromAnotherWorkspace() (mantid.api.IEventWorkspace method)\\n\\n(mantid.api.MatrixWorkspace method)\\n\\n\\nApplyTransmissionCorrection-v1\\n\\narchiveSearch() (mantid.kernel.FacilityInfo method)\\n\\nas_integer_ratio() (mantid.api.EventType method)\\n\\n(mantid.api.FileAction method)\\n\\n(mantid.api.LockMode method)\\n\\n(mantid.api.MDNormalization method)\\n\\n(mantid.api.PropertyMode method)\\n\\n(mantid.geometry.AngleUnits method)\\n\\n(mantid.geometry.PointingAlong method)\\n\\n\\nascii() (mantid.kernel.UnitLabel method)\\n\\nasString() (mantid.kernel.DeltaEMode method)\\n\\nastar() (mantid.geometry.OrientedLattice method)\\n\\n(mantid.geometry.UnitCell method)\\n\\n\\nAsymmetricPearsonVII\\n\\nAsymmetryCalc-v1\\n\\nAtom (class in mantid.kernel)\\n\\nAtoms (mantid.kernel.NumberDensityUnit attribute)\\n\\nattributeNames() (mantid.api.IFunction method)\\n\\n(mantid.api.IFunction1D method)\\n\\n(mantid.api.IPeakFunction method)\\n\\n\\navailableTypes() (mantid.kernel.DeltaEMode static method)\\n\\navailMem() (mantid.kernel.MemoryStats method)\\n\\nAverageLogData-v1\\n\\naxes() (mantid.api.IEventWorkspace method)\\n\\n(mantid.api.MatrixWorkspace method)\\n\\n\\nazimuthal() (mantid.api.SpectrumInfo method)\\n\\n(mantid.geometry.DetectorInfo method)\\n\\n\\n\\n\\nB\\n\\n\\nb() (mantid.geometry.OrientedLattice method)\\n\\n(mantid.geometry.UnitCell method)\\n\\n\\nb1() (mantid.geometry.OrientedLattice method)\\n\\n(mantid.geometry.UnitCell method)\\n\\n\\nb2() (mantid.geometry.OrientedLattice method)\\n\\n(mantid.geometry.UnitCell method)\\n\\n\\nb3() (mantid.geometry.OrientedLattice method)\\n\\n(mantid.geometry.UnitCell method)\\n\\n\\nBackToBackExponential\\n\\nBASISCrystalDiffraction-v1\\n\\nBASISDiffraction-v1\\n\\nBASISPowderDiffraction-v1\\n\\nBASISReduction-v1\\n\\nBayesQuasi-v1\\n\\nBayesQuasi2-v1\\n\\nBayesStretch-v1\\n\\nBayesStretch2-v1\\n\\nBessel\\n\\nbeta() (mantid.geometry.OrientedLattice method)\\n\\n(mantid.geometry.UnitCell method)\\n\\n\\nbeta1() (mantid.geometry.OrientedLattice method)\\n\\n(mantid.geometry.UnitCell method)\\n\\n\\nbeta2() (mantid.geometry.OrientedLattice method)\\n\\n(mantid.geometry.UnitCell method)\\n\\n\\nbeta3() (mantid.geometry.OrientedLattice method)\\n\\n(mantid.geometry.UnitCell method)\\n\\n\\nbetastar() (mantid.geometry.OrientedLattice method)\\n\\n(mantid.geometry.UnitCell method)\\n\\n\\nBilbySANSDataProcessor-v1\\n\\nBin2DPowderDiffraction-v1\\n\\nBinaryOperateMasks-v1\\n\\nBinEdgeAxis (class in mantid.api)\\n\\nbinIndexOf() (mantid.api.IEventWorkspace method)\\n\\n(mantid.api.MatrixWorkspace method)\\n\\n\\n\\n\\nBinMD-v1\\n\\nBinWidthAtX-v1\\n\\nbit_count() (mantid.api.EventType method)\\n\\n(mantid.api.FileAction method)\\n\\n(mantid.api.LockMode method)\\n\\n(mantid.api.MDNormalization method)\\n\\n(mantid.api.PropertyMode method)\\n\\n(mantid.geometry.AngleUnits method)\\n\\n(mantid.geometry.PointingAlong method)\\n\\n\\nbit_length() (mantid.api.EventType method)\\n\\n(mantid.api.FileAction method)\\n\\n(mantid.api.LockMode method)\\n\\n(mantid.api.MDNormalization method)\\n\\n(mantid.api.PropertyMode method)\\n\\n(mantid.geometry.AngleUnits method)\\n\\n(mantid.geometry.PointingAlong method)\\n\\n\\nBivariateGaussian\\n\\nBivariateNormal\\n\\nBk2BkExpConvPV\\n\\nblocksize() (mantid.api.IEventWorkspace method)\\n\\n(mantid.api.MatrixWorkspace method)\\n\\n\\nBoolFilteredTimeSeriesProperty (class in mantid.kernel)\\n\\nBoolPropertyWithValue (class in mantid.kernel)\\n\\nBoolTimeSeriesProperty (class in mantid.kernel)\\n\\nboundaries_from_points() (in module mantid.plots.datafunctions)\\n\\nBoundingBox (class in mantid.geometry)\\n\\nbox2D() (in module directtools)\\n\\nBoxController (class in mantid.api)\\n\\nBSpline\\n\\nbstar() (mantid.geometry.OrientedLattice method)\\n\\n(mantid.geometry.UnitCell method)\\n\\n\\nbuild() (mantid.kernel.MaterialBuilder method)\\n\\n\\n\\nC\\n\\n\\nc() (mantid.geometry.OrientedLattice method)\\n\\n(mantid.geometry.UnitCell method)', metadata={'source': '/Users/8cz/Github/mantid/build/docs/html/genindex.html', 'title': 'Index'})]\n",
      "HTML devdoc splits:\n",
      "[Document(page_content='Load Algorithm Hook\\n\\n\\n\\n\\n\\n\\n\\n\\n\\n\\n\\n\\n\\n\\n\\n\\n\\n\\n\\n\\n\\n\\n\\nmaster\\n\\n\\n\\n\\nHome\\nDownload\\nUser Documentation\\nContact Us\\n\\n\\n\\n\\n\\n\\n\\n\\n\\n\\n\\n\\nNavigation\\n\\nDocumentation »\\nLoad Algorithm Hook\\n\\n\\n\\n\\n\\n\\n\\nLoad Algorithm Hook¶\\n\\n\\nThe Load Algorithm\\nDescriptors\\n\\nHDF\\n\\nHDFDescriptor\\n\\n\\nNon-HDF\\n\\nFileDescriptor\\n\\n\\n\\n\\n\\n\\n\\nThe Load Algorithm¶\\nThis page describes how to register a new file loading algorithm so that it can be used through\\nthe general-purpose Load algorithm.\\nThe Load algorithm is a special algorithm as does very little work itself.\\nIt instead tries to search for the most suitable algorithm for a given file and then uses this\\nalgorithm as a child to load the file. An algorithm wishing to be included as part of the search\\nmust register itself slightly differently and not use DECLARE_ALGORITHM macro.\\nThe process of searching for the correct loader needs to be fairly quick as it will be especially\\nnoticeable in the GUI if the process takes a long time. To speed up the process the loaders are\\ncurrently split into 2 categories:\\n\\nHDF - Currently only HDF4/5\\nNonHDF - The rest\\n\\nA quick check is performed, using HDFDescriptor::isHDF(), to test whether the file looks like a\\nHDF file.\\nIf the check succeeds then only the HDF group of loaders are checked, otherwise only the NonHDF group are checked.\\n\\n\\nDescriptors¶\\nTo avoid the file being opened/closed by each confidence method, a Descriptor object is provided.\\nThe actual Descriptor class depends on whether the file is a HDF file or not.\\n\\nHDF¶\\nTo register an algorithm as a HDF loader use the IHDFLoader interface as a base class for your algorithm.\\nIn your cpp file include the MantidAPI/RegisterFileLoader.h header and use the DECLARE_HDF_FILELOADER\\nmacro instead of the standard DECLARE_ALGORITHM macro.\\nThe interface requires that the method virtual int confidence(Kernel::HDFDescriptor & descriptor) const = 0;\\nbe overloaded in the inheriting class. It should use the provided descriptor to check whether the loader is\\nable to load the wrapped file and return a confidence level as an integer.\\n\\nHDFDescriptor¶\\nThis provides methods to query characteristics of the current file to avoid repeated accessing of the tree.\\n\\n\\n\\nNon-HDF¶\\nTo register an algorithm as a Non-HDF loader use the IFileLoader interface as a base class for your algorithm.\\nIn your cpp file include the MantidAPI/RegisterFileLoader.h header and use the DECLARE_FILELOADER macro\\ninstead of the standard DECLARE_ALGORITHM macro.\\nThe interface requires that the method virtual int confidence(Kernel::FileDescriptor & descriptor) const = 0;\\nbe overloaded in the inheriting class. It should use the provided descriptor to check whether the loader is\\nable to load the wrapped file and return a confidence level as an integer.\\n\\nFileDescriptor¶\\nThis provides methods to query some characteristics of the current file and also access the open stream to avoid\\nrepeated opening/closing of the file. Avoid closing the stream. The code calling the confidence method ensures\\nthat the stream is back at the start of the file before checking the next loader so simply use the stream as\\nnecessary and leave it as it is.\\n\\n\\n\\n\\n\\n\\n\\n\\n\\n\\n\\n« ISIS SANS Red...\\n\\n\\n\\nLogging »\\n\\n\\nBack to top', metadata={'source': '/Users/8cz/Github/mantid/build/dev-docs/html/LoadAlgorithmHook.html', 'title': 'Load Algorithm Hook'}),\n",
      " Document(page_content='Profiling with Valgrind\\n\\n\\n\\n\\n\\n\\n\\n\\n\\n\\n\\n\\n\\n\\n\\n\\n\\n\\n\\n\\n\\n\\n\\nmaster\\n\\n\\n\\n\\nHome\\nDownload\\nUser Documentation\\nContact Us\\n\\n\\n\\n\\n\\n\\n\\n\\n\\n\\n\\n\\nNavigation\\n\\nDocumentation »\\nProfiling with Valgrind\\n\\n\\n\\n\\n\\n\\n\\nProfiling with Valgrind¶\\n\\nSummary¶\\nDescribes how to use the\\ncallgrind plugin to\\nthe valgrind tool set to profile your code.\\nNote: Valgrind is a Linux only tool\\n\\n\\nInstallation¶\\nYou will need to install both valgrind & the visualizer tool\\nkcachegrind - both of which should be available in your distribution’s\\nrepositories.\\n\\nUbuntu¶\\n>> apt-get install valgrind kcachegrind\\n\\n\\n\\n\\nRed Hat/Fedora¶\\n>> yum install valgrind kcachegrind\\n\\n\\n\\n\\n\\nPreparation¶\\nTo be most effective valgrind requires that debugging information be\\npresent in the binaries that are being instrumented, although a full\\ndebug build is not required. On gcc this means compiling with the -g\\nflag. For Mantid the recommended setup is to use a separate build with\\nthe CMAKE_BUILD_TYPE set to RelWithDebInfo. This provides a good\\nbalance between performance and availability of debugging information.\\n\\n\\nRunning the Profiler¶\\nThe profiler can instrument the code in a number of different ways. Some\\nof these will be described here. For more detail information see the\\ncallgrind manual.\\nDuring execution the callgrind tool creates many output file named\\ncallgrind.output.pid.X. For this reason it is recommended that each\\nprofile run be executed from within a separate directory, named with a\\ndescription of the activity. This allows the separate profiled runs to\\nbe found more easily in the future.\\nBeware: The code will execute many times (factors of 10) slower than\\nwhen not profiling - this is just a consequence of how valgrind\\ninstruments the code.\\n\\nProfile a Whole Program Run¶\\nThis is the simplest mode of operation. Simply pass the program\\nexecutable, along with any arguments to the valgrind executable:\\n>> valgrind --tool=callgrind --dump-instr=yes --simulate-cache=yes --collect-jumps=yes <executable> [args...]\\n\\n\\n\\n\\nProfile Selected Portions of the Code¶\\nFor larger pieces of code it can be quite likely that you wish to\\nprofile only a selected portion of it. This is possible if you have a\\naccess to recompile the source code of the binaries to be instrumented\\nas valgrind has a C api that can be used talk to the profiler. It uses a\\nset of\\nmacros\\nto instruct the profiler what to do when it hits certain points of the\\ncode.\\nAs an example take a simple main function composed of several function\\ncalls:\\nint main()\\n{\\n  foo1();\\n  bar1();\\n  foo2();\\n  foo3();\\n}\\n\\n\\nTo profile only the call to bar1() then you would do the following\\nto the code:\\n#include <valgrind/callgrind.h>\\n\\nint main()\\n{\\n  foo1();\\n  CALLGRIND_START_INSTRUMENTATION;\\n  CALLGRIND_TOGGLE_COLLECT;\\n  bar1();\\n  CALLGRIND_TOGGLE_COLLECT;\\n  CALLGRIND_STOP_INSTRUMENTATION;\\n  foo2();\\n  foo3();\\n}\\n\\n\\nAfter recompiling the code you would then run the profiler again but\\nthis time adding the –instr-atstart=no –collect-atstart=no flags,\\nlike so\\n>> valgrind --tool=callgrind --dump-instr=yes --simulate-cache=yes --collect-jumps=yes --collect-atstart=no --instr-atstart=no <executable> [args...]\\n\\n\\nThe –instru-at-start=no is not strictly necessary but it will speed\\nup the code up until the profiling point at the cost of the less\\naccuracy about the cache usage. See\\nhere\\nmore details.\\n\\n\\n\\nVisualisation¶\\nCallgrind produces a large amount of data about the program’s execution.\\nIt is most easily understood using the kcachegrind GUI tool. This\\nreads the information produced by callgrind and creates a list of\\nfunction calls along with information on timings of each of the calls\\nduring the profiled run. If the source code is available it can also\\nshow the lines of code that relate to the functions being inspected.\\n\\n\\n\\nExample of KCachegrind display a profile of MantidPlot starting up\\nand closing down¶\\n\\n\\nBy default KCachegrind shows the number of instructions fetched within\\nits displays. This can be changed using the drop-down box at the top\\nright of the screen. The Instruction Fetch and Cycle Estimation are\\ngenerally the most widely used and roughly correlate to the amount of\\ntime spent pe', metadata={'source': '/Users/8cz/Github/mantid/build/dev-docs/html/ProfilingWithValgrind.html', 'title': 'Profiling with Valgrind'}),\n",
      " Document(page_content='e Instruction Fetch and Cycle Estimation are\\ngenerally the most widely used and roughly correlate to the amount of\\ntime spent performing the displayed functions.\\nSome of the key features display are:\\n\\nFlat Profile View¶\\n\\nIncl. - Sum of itself + all child calls as a percentage of the whole.\\nPrograms with little static allocation should have main() at 100%.\\nUnits are those selected by the to-right drop-down\\nSelf - Exclusive count spent in the selected function. Units are\\nthose selected by the to-right drop-down\\nCalled - Number of times the function was called.\\n\\n\\n\\nFunction Call Detail¶\\nClick on function in flat view to get more detail on the right.\\nDisplays details about the selected function call plus details about all\\nchild calls it made. The call graph tab at the bottom gives a nice\\ngraphical overview of the relative function cost.\\n\\n\\n\\n\\n\\n\\n\\n\\n\\n\\n« Profiling with perf\\n\\n\\n\\nFlowchart Creation »\\n\\n\\nBack to top', metadata={'source': '/Users/8cz/Github/mantid/build/dev-docs/html/ProfilingWithValgrind.html', 'title': 'Profiling with Valgrind'}),\n",
      " Document(page_content='Work flows algorithm profiling\\n\\n\\n\\n\\n\\n\\n\\n\\n\\n\\n\\n\\n\\n\\n\\n\\n\\n\\n\\n\\n\\n\\n\\nmaster\\n\\n\\n\\n\\nHome\\nDownload\\nUser Documentation\\nContact Us\\n\\n\\n\\n\\n\\n\\n\\n\\n\\n\\n\\n\\nNavigation\\n\\nDocumentation »\\nTools Overview »\\nWork flows algorithm profiling\\n\\n\\n\\n\\n\\n\\n\\nWork flows algorithm profiling¶\\n\\nContents\\n\\nSummary\\nMantid build\\nAdding more detailed information\\nAnalysing tool\\n\\n\\n\\n\\n\\n\\nSummary¶\\nDue to the need of investigation of algorithms performance issues, the proper method is introduced.\\nIt consists two to parts: special mantid build and analytical tool.\\nAvailable for Linux only.\\n\\n\\nMantid build¶\\nTo build mantid version with profiling functionality enabled run cmake with the additional option -DPROFILE_ALGORITHM_LINUX=ON.\\nBuilt in such a way mantid creates a dump file algotimeregister.out in the running directory.\\nThis file contains the time stamps for start and finish of executed algorithms with ~nanosecond precision in a very simple text format.\\n\\n\\nAdding more detailed information¶\\nMore detailed information can be added to individual function calls in C++ with the help of std::chrono.\\nAt the top of the fuction create a “start time”\\nconst auto startTime = std::chrono::high_resolution_clock::now();\\n\\n\\nThen at the bottom of the section being timed, add it to the profiling output\\naddTimer(\"createOutputWorkspacesSplitters\", startTime, std::chrono::high_resolution_clock::now());\\n\\n\\nwhere createOutputWorkspacesSplitters is the name that will appear, similar to a child algorithm.\\nThe names in the report will be suffixed with 1 because the tool thinks they are the “default version” of a child algorithm.\\nAn example of this can be found in FilterEvents.cpp.\\n\\n\\nAnalysing tool¶\\nThe mantid-profiler project provides the nice graphical tool to interpret the information contained in the dumped file.\\nThe project has more detiled instructions, but in general\\npython path/to/myscript.py & python path/to/mantid-profiler/mantid-profiler.py $!\\n\\n\\nThe & puts the python process in the background.\\nThe $! is the process-id (PID) of the last process run and allows mantid-profiler to attach to the process.\\n\\n\\n\\n\\n\\n\\n\\n\\n\\n« Tools Overview\\n\\n\\n\\nProfiling Overview »\\n\\n\\nBack to top', metadata={'source': '/Users/8cz/Github/mantid/build/dev-docs/html/AlgorithmProfiler.html', 'title': 'Work flows algorithm profiling'}),\n",
      " Document(page_content='Design Document Guidelines\\n\\n\\n\\n\\n\\n\\n\\n\\n\\n\\n\\n\\n\\n\\n\\n\\n\\n\\n\\n\\n\\n\\n\\nmaster\\n\\n\\n\\n\\nHome\\nDownload\\nUser Documentation\\nContact Us\\n\\n\\n\\n\\n\\n\\n\\n\\n\\n\\n\\n\\nNavigation\\n\\nDocumentation »\\nDesign Document Guidelines\\n\\n\\n\\n\\n\\n\\n\\nDesign Document Guidelines¶\\n\\n\\nWhen to write a design document\\n\\nAmount of classes\\nAmount of files\\nAbstractness fraction\\nThe layer of intent\\nNumber of developers\\nNumber of users\\nNumber of person-months\\n\\n\\nDesign document process\\nDesign document content\\n\\nMotivation\\nDictionary of Terms\\nPotential Solutions\\nChosen Solution\\nImplementation Detail\\nCheat Sheet and Checklist\\n\\n\\n\\n\\nA good design document minimises unexpected complications by addressing\\nthem before the code is written. A document will provide you, your\\nmanager and your team with a common vocabulary for talking about the\\nproject. Writing an effective design document can be tricky in itself, as\\nthey often add unnecessary complexity if not done with care. These\\nguidelines are to help with when and how to generate effective and simple design\\ndocuments.\\n\\nWhen to write a design document¶\\nThis section provides some guidelines on when to produce a design document.\\nNote that, it is not about when to do a design and when not.\\nExcept for trivial changes, one should always perform design work before coding, no matter the scope or the nature of the feature.\\nThese guidelines set out in which cases the design must be a public, written and persistent document, rather than a sketch on a white-board in a stand-up meeting.\\nJust like coding, design is an iterative and collaborative process.\\nHaving a written document allows for discussion and iterations with peers, including across facilities, before the first line of code is typed.\\nBesides, the written document facilitates the pull request review process.\\nHaving the design already approved, the reviewer will not need to do a design review with the code review, but will just need to make sure that the implementation matches the previously agreed design.\\nFinally, once written, the document can also serve as (or easily be turned into) a developer documentation for future reference.\\nNot every feature requires a design document. The benefit it adds must be gauged with the time and effort that goes into it.\\nBelow are the main scenarios when a design document is necessary or not.\\n\\n\\nDesign Document Needed\\nDesign Document Not Needed\\n\\n\\n\\n\\nLarge-scope feature - e.g. slice viewer, instrument viewer\\nBrand-new feature - e.g. crash reporter, plot manager\\nCore refactors - e.g. HistogramData, DetectorInfo\\nAbstractions, APIs - e.g. simpleapi, a new workspace type\\nFully fledged libraries - e.g. Crystal library in the framework\\n\\n\\n\\nBug fixes of any kind\\nMinor extensions to the current tools - e.g. adding another button in a GUI widget\\nNew functionalities to an extant algorithm – e.g. another target of unit conversion\\nConcrete, single-class plugins - e.g. a new algorithm or a new fit function\\n\\n\\n\\n\\n\\nBelow are a handful of measurable quantities that could help a developer decide which category the feature belongs to.\\n\\nAmount of classes¶\\nSingle-class plugins, such as algorithms, do not require design documents.\\nIn the contrary, if the number of classes is more than a dozen, the document could be relevant in order to describe the relations between them.\\n\\n\\nAmount of files¶\\nIf the feature intends to touch (add or edit) a single file, design document is not needed.\\nIf it is more than a hundred, opposite is likely the case.\\n\\n\\nAbstractness fraction¶\\nStability of a piece of code must be proportional to its abstractness; abstractions and APIs are hard to change, once in.\\nSo whenever the feature concerns creations of new abstraction layers and APIs, a wider discussion on the design is needed, hence the necessity of the document.\\nA good measure for this is the intended fraction of the abstract classes (virtual or pure virtual) in the design.\\n\\n\\nThe layer of intent¶\\nIf the feature is deep in the framework or workbench, it is more critical to have a document.\\nFeatures in the core layer must be carefully thought out, as many other things will depend on them.\\nIn the contrary, if the feature is just a', metadata={'source': '/Users/8cz/Github/mantid/build/dev-docs/html/DesignDocumentGuides.html', 'title': 'Design Document Guidelines'})]\n"
     ]
    }
   ],
   "source": [
    "# print first 5 splits in each language\n",
    "print(\"C++ splits:\")\n",
    "pprint(splits_cxx[:5])\n",
    "print(\"Python splits:\")\n",
    "pprint(splits_py[:5])\n",
    "print(\"HTML doc splits:\")\n",
    "pprint(splits_doc[:5])\n",
    "print(\"HTML devdoc splits:\")\n",
    "pprint(splits_devdoc[:5])"
   ]
  },
  {
   "cell_type": "markdown",
   "metadata": {},
   "source": [
    "time to build the database"
   ]
  },
  {
   "cell_type": "code",
   "execution_count": 16,
   "metadata": {},
   "outputs": [],
   "source": [
    "ollama_emd = OllamaEmbeddings(model=\"nomic-embed-text\")"
   ]
  },
  {
   "cell_type": "code",
   "execution_count": 17,
   "metadata": {},
   "outputs": [],
   "source": [
    "# build the database\n",
    "chroma_db = Chroma.from_documents(\n",
    "    documents=docs_cxx + docs_py + docs_doc + docs_devdoc,\n",
    "    embedding=ollama_emd,\n",
    "    persist_directory=\"../vectorDB/mantid\",\n",
    ")"
   ]
  },
  {
   "cell_type": "code",
   "execution_count": null,
   "metadata": {},
   "outputs": [],
   "source": []
  }
 ],
 "metadata": {
  "kernelspec": {
   "display_name": "Python 3",
   "language": "python",
   "name": "python3"
  },
  "language_info": {
   "codemirror_mode": {
    "name": "ipython",
    "version": 3
   },
   "file_extension": ".py",
   "mimetype": "text/x-python",
   "name": "python",
   "nbconvert_exporter": "python",
   "pygments_lexer": "ipython3",
   "version": "3.11.8"
  }
 },
 "nbformat": 4,
 "nbformat_minor": 2
}
