{
 "cells": [
  {
   "cell_type": "markdown",
   "metadata": {},
   "source": [
    "# Overview \n",
    "\n",
    "The main objective of this notebook is to\n",
    "\n",
    "- Demonstrate how to update existing database with new embeddings"
   ]
  },
  {
   "cell_type": "markdown",
   "metadata": {},
   "source": [
    "## Setup"
   ]
  },
  {
   "cell_type": "code",
   "execution_count": 1,
   "metadata": {},
   "outputs": [],
   "source": [
    "from langchain.llms import Ollama\n",
    "from langchain.callbacks.streaming_stdout import StreamingStdOutCallbackHandler\n",
    "from langchain_community.embeddings import OllamaEmbeddings\n",
    "from langchain_community.document_loaders import PyPDFLoader\n",
    "from langchain.text_splitter import RecursiveCharacterTextSplitter\n",
    "from langchain.vectorstores import Chroma"
   ]
  },
  {
   "cell_type": "code",
   "execution_count": 2,
   "metadata": {},
   "outputs": [],
   "source": [
    "model_name = \"mistral\"\n",
    "llm  = Ollama(\n",
    "    model=model_name,\n",
    "    callbacks=[StreamingStdOutCallbackHandler()],\n",
    ")\n",
    "ollama_emb = OllamaEmbeddings(\n",
    "    model=model_name,\n",
    ")"
   ]
  },
  {
   "cell_type": "code",
   "execution_count": 3,
   "metadata": {},
   "outputs": [],
   "source": [
    "input_file = \"../data/DNG.pdf\"\n",
    "loader = PyPDFLoader(input_file)\n",
    "pages = loader.load_and_split()\n",
    "text_splitter = RecursiveCharacterTextSplitter(chunk_size=1024, chunk_overlap=100)\n",
    "all_splits = text_splitter.split_documents(pages)\n",
    "\n",
    "chroma_db = Chroma.from_documents(\n",
    "    all_splits,\n",
    "    ollama_emb,\n",
    "    persist_directory=\"./chroma_db\",  # This is where the database will be stored\n",
    ")"
   ]
  },
  {
   "cell_type": "markdown",
   "metadata": {},
   "source": [
    "the db does not know what `ornl-next` is, so we are expecting meaningless results."
   ]
  },
  {
   "cell_type": "code",
   "execution_count": 4,
   "metadata": {},
   "outputs": [],
   "source": [
    "from langchain.chains import RetrievalQA\n",
    "\n",
    "target_source_chunks = 4\n",
    "retriever = chroma_db.as_retriever(\n",
    "    search_kwargs={\"k\": target_source_chunks},\n",
    ")\n",
    "\n",
    "qa = RetrievalQA.from_chain_type(\n",
    "    llm=llm,\n",
    "    chain_type=\"stuff\",\n",
    "    retriever=retriever,\n",
    ")"
   ]
  },
  {
   "cell_type": "code",
   "execution_count": 5,
   "metadata": {},
   "outputs": [
    {
     "name": "stdout",
     "output_type": "stream",
     "text": [
      " I cannot directly answer that question with the given context as \"ornl-next\" is not mentioned in it. The context provided describes the steps for creating an artifact using DNG (Data Narrative Graph), and the possible options for artifact types include Capability and Story, among others."
     ]
    },
    {
     "data": {
      "text/plain": [
       "{'query': 'what is ornl-next?',\n",
       " 'result': ' I cannot directly answer that question with the given context as \"ornl-next\" is not mentioned in it. The context provided describes the steps for creating an artifact using DNG (Data Narrative Graph), and the possible options for artifact types include Capability and Story, among others.'}"
      ]
     },
     "execution_count": 5,
     "metadata": {},
     "output_type": "execute_result"
    }
   ],
   "source": [
    "qa.invoke(\"what is ornl-next?\")"
   ]
  },
  {
   "cell_type": "markdown",
   "metadata": {},
   "source": [
    "now let's append document that does explain what `ornl-next` is"
   ]
  },
  {
   "cell_type": "code",
   "execution_count": 6,
   "metadata": {},
   "outputs": [],
   "source": [
    "input_file = \"../data/mantid-fork.pdf\"\n",
    "loader = PyPDFLoader(input_file)\n",
    "pages = loader.load_and_split()\n",
    "text_splitter = RecursiveCharacterTextSplitter(chunk_size=1024, chunk_overlap=100)\n",
    "all_splits = text_splitter.split_documents(pages)"
   ]
  },
  {
   "cell_type": "code",
   "execution_count": 7,
   "metadata": {},
   "outputs": [
    {
     "data": {
      "text/plain": [
       "['fc487964-e147-11ee-9268-8e5edf19c0b3',\n",
       " 'fc4879e6-e147-11ee-9268-8e5edf19c0b3',\n",
       " 'fc487a04-e147-11ee-9268-8e5edf19c0b3',\n",
       " 'fc487a18-e147-11ee-9268-8e5edf19c0b3',\n",
       " 'fc487a2c-e147-11ee-9268-8e5edf19c0b3',\n",
       " 'fc487a36-e147-11ee-9268-8e5edf19c0b3',\n",
       " 'fc487a4a-e147-11ee-9268-8e5edf19c0b3',\n",
       " 'fc487a5e-e147-11ee-9268-8e5edf19c0b3',\n",
       " 'fc487a72-e147-11ee-9268-8e5edf19c0b3',\n",
       " 'fc487a7c-e147-11ee-9268-8e5edf19c0b3',\n",
       " 'fc487a90-e147-11ee-9268-8e5edf19c0b3',\n",
       " 'fc487aa4-e147-11ee-9268-8e5edf19c0b3',\n",
       " 'fc487aae-e147-11ee-9268-8e5edf19c0b3']"
      ]
     },
     "execution_count": 7,
     "metadata": {},
     "output_type": "execute_result"
    }
   ],
   "source": [
    "chroma_db.add_documents(all_splits)"
   ]
  },
  {
   "cell_type": "code",
   "execution_count": 8,
   "metadata": {},
   "outputs": [
    {
     "name": "stdout",
     "output_type": "stream",
     "text": [
      " Ornl-next is a branch of the mantid project on GitHub that contains the latest development changes before they are merged into the stable ornal branch. It's where new features and bug fixes are being worked on, and it's recommended to merge release-next into ornl-next every night to prevent divergence with upstream mantid development."
     ]
    },
    {
     "data": {
      "text/plain": [
       "{'query': 'what is ornl-next?',\n",
       " 'result': \" Ornl-next is a branch of the mantid project on GitHub that contains the latest development changes before they are merged into the stable ornal branch. It's where new features and bug fixes are being worked on, and it's recommended to merge release-next into ornl-next every night to prevent divergence with upstream mantid development.\"}"
      ]
     },
     "execution_count": 8,
     "metadata": {},
     "output_type": "execute_result"
    }
   ],
   "source": [
    "qa.invoke(\"what is ornl-next?\")"
   ]
  },
  {
   "cell_type": "code",
   "execution_count": null,
   "metadata": {},
   "outputs": [],
   "source": []
  }
 ],
 "metadata": {
  "kernelspec": {
   "display_name": "Python 3",
   "language": "python",
   "name": "python3"
  },
  "language_info": {
   "codemirror_mode": {
    "name": "ipython",
    "version": 3
   },
   "file_extension": ".py",
   "mimetype": "text/x-python",
   "name": "python",
   "nbconvert_exporter": "python",
   "pygments_lexer": "ipython3",
   "version": "3.11.8"
  }
 },
 "nbformat": 4,
 "nbformat_minor": 2
}
