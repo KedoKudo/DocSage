{
 "cells": [
  {
   "cell_type": "markdown",
   "metadata": {},
   "source": [
    "# Overview\n",
    "\n",
    "The main objective of this notebook is to\n",
    "\n",
    "- save document to the Chroma databse\n",
    "- load the document from the Chroma database"
   ]
  },
  {
   "cell_type": "markdown",
   "metadata": {},
   "source": [
    "## Model and embedding"
   ]
  },
  {
   "cell_type": "code",
   "execution_count": 1,
   "metadata": {},
   "outputs": [],
   "source": [
    "from langchain.llms import Ollama\n",
    "from langchain.callbacks.streaming_stdout import StreamingStdOutCallbackHandler\n",
    "from langchain_community.embeddings import OllamaEmbeddings"
   ]
  },
  {
   "cell_type": "code",
   "execution_count": 2,
   "metadata": {},
   "outputs": [],
   "source": [
    "model_name = \"mistral\""
   ]
  },
  {
   "cell_type": "code",
   "execution_count": 3,
   "metadata": {},
   "outputs": [],
   "source": [
    "llm  = Ollama(\n",
    "    model=model_name,\n",
    "    callbacks=[StreamingStdOutCallbackHandler()],\n",
    ")"
   ]
  },
  {
   "cell_type": "code",
   "execution_count": 4,
   "metadata": {},
   "outputs": [],
   "source": [
    "ollama_emb = OllamaEmbeddings(\n",
    "    model=model_name,\n",
    ")"
   ]
  },
  {
   "cell_type": "markdown",
   "metadata": {},
   "source": [
    "## Chroma"
   ]
  },
  {
   "cell_type": "code",
   "execution_count": 5,
   "metadata": {},
   "outputs": [],
   "source": [
    "import glob\n",
    "from langchain_community.document_loaders import PyPDFLoader"
   ]
  },
  {
   "cell_type": "code",
   "execution_count": 6,
   "metadata": {},
   "outputs": [],
   "source": [
    "pdf_files = glob.glob(\"../data/*.pdf\")"
   ]
  },
  {
   "cell_type": "code",
   "execution_count": 7,
   "metadata": {},
   "outputs": [
    {
     "data": {
      "text/plain": [
       "14"
      ]
     },
     "execution_count": 7,
     "metadata": {},
     "output_type": "execute_result"
    }
   ],
   "source": [
    "pages = []\n",
    "\n",
    "for pdf_file in pdf_files:\n",
    "    loader = PyPDFLoader(pdf_file)\n",
    "    pages += loader.load_and_split()\n",
    "\n",
    "len(pages)"
   ]
  },
  {
   "cell_type": "code",
   "execution_count": 8,
   "metadata": {},
   "outputs": [],
   "source": [
    "from langchain.text_splitter import RecursiveCharacterTextSplitter\n",
    "\n",
    "text_splitter = RecursiveCharacterTextSplitter(chunk_size=1024, chunk_overlap=100)\n",
    "all_splits = text_splitter.split_documents(pages)"
   ]
  },
  {
   "cell_type": "code",
   "execution_count": 9,
   "metadata": {},
   "outputs": [],
   "source": [
    "from langchain.vectorstores import Chroma"
   ]
  },
  {
   "cell_type": "code",
   "execution_count": 10,
   "metadata": {},
   "outputs": [],
   "source": [
    "chroma_db = Chroma.from_documents(\n",
    "    all_splits,\n",
    "    ollama_emb,\n",
    "    persist_directory=\"./chroma_db\",  # This is where the database will be stored\n",
    ")"
   ]
  },
  {
   "cell_type": "markdown",
   "metadata": {},
   "source": [
    "let's create another database instance that loads from the Chroma database."
   ]
  },
  {
   "cell_type": "code",
   "execution_count": 11,
   "metadata": {},
   "outputs": [],
   "source": [
    "chroma_db_reloaded = Chroma(\n",
    "    persist_directory=\"./chroma_db\",\n",
    "    embedding_function=ollama_emb,\n",
    ")"
   ]
  },
  {
   "cell_type": "markdown",
   "metadata": {},
   "source": [
    "### Test evaluation"
   ]
  },
  {
   "cell_type": "code",
   "execution_count": 12,
   "metadata": {},
   "outputs": [],
   "source": [
    "target_source_chunks = 4\n",
    "retriever = chroma_db_reloaded.as_retriever(\n",
    "    search_kwargs={\"k\": target_source_chunks},\n",
    ")"
   ]
  },
  {
   "cell_type": "code",
   "execution_count": 13,
   "metadata": {},
   "outputs": [],
   "source": [
    "from langchain.chains import RetrievalQA\n",
    "\n",
    "qa = RetrievalQA.from_chain_type(\n",
    "    llm=llm,\n",
    "    chain_type=\"stuff\",\n",
    "    retriever=retriever,\n",
    ")"
   ]
  },
  {
   "cell_type": "code",
   "execution_count": 14,
   "metadata": {},
   "outputs": [
    {
     "name": "stdout",
     "output_type": "stream",
     "text": [
      " The Neutron Data Project is a program that provides software capabilities needed by users of ORNL's neutron facilities (SNS and HFIR). It focuses primarily on software for reducing and analyzing neutron data generated from instruments. The project supports over 30 instruments across SNS and HFIR, as well as eight different neutron analysis techniques used with those instruments. The program offers infrastructure that grants users access to various software packages, and is responsible for developing and managing some of the software while also making other packages available to users. The complexity of the project arises from its organization and the sharing of limited development resources."
     ]
    },
    {
     "data": {
      "text/plain": [
       "{'query': 'What is the neutron data project?',\n",
       " 'result': \" The Neutron Data Project is a program that provides software capabilities needed by users of ORNL's neutron facilities (SNS and HFIR). It focuses primarily on software for reducing and analyzing neutron data generated from instruments. The project supports over 30 instruments across SNS and HFIR, as well as eight different neutron analysis techniques used with those instruments. The program offers infrastructure that grants users access to various software packages, and is responsible for developing and managing some of the software while also making other packages available to users. The complexity of the project arises from its organization and the sharing of limited development resources.\"}"
      ]
     },
     "execution_count": 14,
     "metadata": {},
     "output_type": "execute_result"
    }
   ],
   "source": [
    "qa.invoke(\"What is the neutron data project?\")"
   ]
  },
  {
   "cell_type": "code",
   "execution_count": 15,
   "metadata": {},
   "outputs": [
    {
     "name": "stdout",
     "output_type": "stream",
     "text": [
      " The Neutron Data Project is an international collaboration aimed at collecting, processing, and analyzing high-precision data from neutron scattering experiments. Neutrons are subatomic particles similar to electrons but with a neutral charge. They interact differently with matter than electrons, allowing for unique insights into the structure and properties of materials at the atomic and molecular level.\n",
      "\n",
      "The project focuses on providing open access to high-quality neutron data from various sources, promoting its sharing among researchers around the world. By making this data readily available, scientists can reanalyze it using advanced techniques or apply new theories that were not previously considered when the original experiments were conducted. This collaboration enhances the scientific community's ability to learn from each other's work and accelerate discoveries in various fields such as materials science, chemistry, biology, and condensed matter physics."
     ]
    },
    {
     "data": {
      "text/plain": [
       "\" The Neutron Data Project is an international collaboration aimed at collecting, processing, and analyzing high-precision data from neutron scattering experiments. Neutrons are subatomic particles similar to electrons but with a neutral charge. They interact differently with matter than electrons, allowing for unique insights into the structure and properties of materials at the atomic and molecular level.\\n\\nThe project focuses on providing open access to high-quality neutron data from various sources, promoting its sharing among researchers around the world. By making this data readily available, scientists can reanalyze it using advanced techniques or apply new theories that were not previously considered when the original experiments were conducted. This collaboration enhances the scientific community's ability to learn from each other's work and accelerate discoveries in various fields such as materials science, chemistry, biology, and condensed matter physics.\""
      ]
     },
     "execution_count": 15,
     "metadata": {},
     "output_type": "execute_result"
    }
   ],
   "source": [
    "llm.invoke(\"What is the neutron data project?\")"
   ]
  },
  {
   "cell_type": "code",
   "execution_count": null,
   "metadata": {},
   "outputs": [],
   "source": []
  }
 ],
 "metadata": {
  "kernelspec": {
   "display_name": "Python 3",
   "language": "python",
   "name": "python3"
  },
  "language_info": {
   "codemirror_mode": {
    "name": "ipython",
    "version": 3
   },
   "file_extension": ".py",
   "mimetype": "text/x-python",
   "name": "python",
   "nbconvert_exporter": "python",
   "pygments_lexer": "ipython3",
   "version": "3.11.8"
  }
 },
 "nbformat": 4,
 "nbformat_minor": 2
}
