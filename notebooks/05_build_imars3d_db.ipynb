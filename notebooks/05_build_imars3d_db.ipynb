{
 "cells": [
  {
   "cell_type": "markdown",
   "metadata": {},
   "source": [
    "# Overview\n",
    "\n",
    "This notebook is used to build a Chroma database for working with iMars3D library."
   ]
  },
  {
   "cell_type": "code",
   "execution_count": 1,
   "metadata": {},
   "outputs": [],
   "source": [
    "from langchain_community.document_loaders.generic import GenericLoader\n",
    "from langchain_community.document_loaders.parsers import LanguageParser, BS4HTMLParser\n",
    "from langchain_text_splitters import Language, RecursiveCharacterTextSplitter\n",
    "from langchain_community.embeddings import OllamaEmbeddings\n",
    "from langchain.vectorstores import Chroma"
   ]
  },
  {
   "cell_type": "code",
   "execution_count": 2,
   "metadata": {},
   "outputs": [],
   "source": [
    "imars3d_dir = \"/Users/8cz/Github/ornlneutronimaging_org/iMars3D/src/imars3d\"\n",
    "imars3ddoc_dir = \"/Users/8cz/Github/ornlneutronimaging_org/iMars3D/docs/_build/html\""
   ]
  },
  {
   "cell_type": "code",
   "execution_count": 3,
   "metadata": {},
   "outputs": [],
   "source": [
    "loader_py = GenericLoader.from_filesystem(\n",
    "    imars3d_dir,\n",
    "    glob=\"**/*\",\n",
    "    suffixes=[\".py\"],\n",
    "    parser=LanguageParser(Language.PYTHON),\n",
    "    show_progress=True,\n",
    ")\n",
    "\n",
    "loader_doc = GenericLoader.from_filesystem(\n",
    "    imars3ddoc_dir,\n",
    "    glob=\"**/*\",\n",
    "    suffixes=[\".html\"],\n",
    "    parser=BS4HTMLParser(),\n",
    "    show_progress=True,\n",
    ")"
   ]
  },
  {
   "cell_type": "code",
   "execution_count": 4,
   "metadata": {},
   "outputs": [
    {
     "data": {
      "application/vnd.jupyter.widget-view+json": {
       "model_id": "382adece1c2e415d8892330f56ce03b6",
       "version_major": 2,
       "version_minor": 0
      },
      "text/plain": [
       "  0%|          | 0/56 [00:00<?, ?it/s]"
      ]
     },
     "metadata": {},
     "output_type": "display_data"
    },
    {
     "data": {
      "application/vnd.jupyter.widget-view+json": {
       "model_id": "d7a6c820c8744a2096f33f119161f7a4",
       "version_major": 2,
       "version_minor": 0
      },
      "text/plain": [
       "  0%|          | 0/58 [00:00<?, ?it/s]"
      ]
     },
     "metadata": {},
     "output_type": "display_data"
    }
   ],
   "source": [
    "docs_py = loader_py.load()\n",
    "docs_doc = loader_doc.load()"
   ]
  },
  {
   "cell_type": "code",
   "execution_count": 5,
   "metadata": {},
   "outputs": [],
   "source": [
    "splitter_py = RecursiveCharacterTextSplitter.from_language(\n",
    "    language=Language.PYTHON,\n",
    "    chunk_size=4096,\n",
    "    chunk_overlap=128,\n",
    ")\n",
    "\n",
    "splitter_doc = RecursiveCharacterTextSplitter.from_language(\n",
    "    language=Language.HTML,\n",
    "    chunk_size=4096,\n",
    "    chunk_overlap=128,\n",
    ")"
   ]
  },
  {
   "cell_type": "code",
   "execution_count": 6,
   "metadata": {},
   "outputs": [],
   "source": [
    "splits_py = splitter_py.split_documents(docs_py)\n",
    "\n",
    "splits_doc = splitter_doc.split_documents(docs_doc)"
   ]
  },
  {
   "cell_type": "code",
   "execution_count": 7,
   "metadata": {},
   "outputs": [],
   "source": [
    "ollama_emd = OllamaEmbeddings(model=\"nomic-embed-text\")"
   ]
  },
  {
   "cell_type": "code",
   "execution_count": 8,
   "metadata": {},
   "outputs": [],
   "source": [
    "# build the vector store\n",
    "chroma_db = Chroma.from_documents(\n",
    "    documents=splits_py + splits_doc,\n",
    "    embedding=ollama_emd,\n",
    "    persist_directory=\"../vectorDB/imars3d\",\n",
    ")"
   ]
  },
  {
   "cell_type": "code",
   "execution_count": null,
   "metadata": {},
   "outputs": [],
   "source": []
  }
 ],
 "metadata": {
  "kernelspec": {
   "display_name": "Python 3",
   "language": "python",
   "name": "python3"
  },
  "language_info": {
   "codemirror_mode": {
    "name": "ipython",
    "version": 3
   },
   "file_extension": ".py",
   "mimetype": "text/x-python",
   "name": "python",
   "nbconvert_exporter": "python",
   "pygments_lexer": "ipython3",
   "version": "3.11.8"
  }
 },
 "nbformat": 4,
 "nbformat_minor": 2
}
