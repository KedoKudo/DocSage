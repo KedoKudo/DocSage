{
 "cells": [
  {
   "cell_type": "markdown",
   "metadata": {},
   "source": [
    "# Overview\n",
    "\n",
    "This notebook is used to build a Chroma database for working with iMars3D library."
   ]
  },
  {
   "cell_type": "code",
   "execution_count": 1,
   "metadata": {},
   "outputs": [],
   "source": [
    "from langchain_community.document_loaders.generic import GenericLoader\n",
    "from langchain_community.document_loaders.parsers import LanguageParser\n",
    "from langchain_text_splitters import Language, RecursiveCharacterTextSplitter\n",
    "from pprint import pprint\n",
    "from langchain_community.embeddings import OllamaEmbeddings\n",
    "from langchain.vectorstores import Chroma"
   ]
  },
  {
   "cell_type": "code",
   "execution_count": 2,
   "metadata": {},
   "outputs": [],
   "source": [
    "imars3d_dir = \"/Users/8cz/Github/ornlneutronimaging_org/iMars3D/src/imars3d\""
   ]
  },
  {
   "cell_type": "code",
   "execution_count": 3,
   "metadata": {},
   "outputs": [],
   "source": [
    "loader_py = GenericLoader.from_filesystem(\n",
    "    imars3d_dir,\n",
    "    glob=\"**/*\",\n",
    "    suffixes=[\".py\"],\n",
    "    parser=LanguageParser(Language.PYTHON),\n",
    ")"
   ]
  },
  {
   "cell_type": "code",
   "execution_count": 4,
   "metadata": {},
   "outputs": [],
   "source": [
    "docs_py = loader_py.load()"
   ]
  },
  {
   "cell_type": "code",
   "execution_count": 5,
   "metadata": {},
   "outputs": [
    {
     "name": "stdout",
     "output_type": "stream",
     "text": [
      "[Document(page_content='__version__ = \"1.1.0.dev37+d202403081945\"', metadata={'source': '/Users/8cz/Github/ornlneutronimaging_org/iMars3D/src/imars3d/_version.py', 'content_type': 'simplified_code', 'language': <Language.PYTHON: 'python'>}),\n",
      " Document(page_content='\"\"\"iMars3D: a Python package for neutron imaging and tomography reconstruction.\"\"\"\\n\\nimport logging\\nfrom .backend import corrections, diagnostics, dataio, morph, preparation, reconstruction  # noqa: F401\\n\\nlogging.getLogger(\"imars3d\").setLevel(logging.INFO)\\ntry:\\n    from ._version import __version__  # noqa: F401\\nexcept ImportError:\\n    __version__ = \"unknown\"', metadata={'source': '/Users/8cz/Github/ornlneutronimaging_org/iMars3D/src/imars3d/__init__.py', 'content_type': 'simplified_code', 'language': <Language.PYTHON: 'python'>}),\n",
      " Document(page_content='class BaseWindow(pn.viewable.Viewer):\\n    \"\"\"Base class for all viewer.\"\"\"\\n\\n    # configuration\\n    config_dict = param.Dict(\\n        default={\\n            \"facility\": \"TBD\",\\n            \"instrument\": \"TBD\",\\n            \"ipts\": \"IPTS-00000\",\\n            \"name\": \"TBD\",\\n            \"workingdir\": \"TBD\",\\n            \"outputdir\": \"TBD\",\\n            \"tasks\": [],\\n        },\\n        doc=\"Configuration dictionary\",\\n    )\\n\\n    def __init__(self, **params):\\n        super().__init__(**params)\\n        self._panel = self.json_editor\\n\\n    @param.output(\\n        (\"config_dict\", param.Dict),\\n    )\\n    def as_dict(self):\\n        \"\"\"Return config dict.\"\"\"\\n        return self.config_dict\\n\\n    @param.depends(\"config_dict\", on_init=True)\\n    def json_editor(self):\\n        \"\"\"Return a json editor pane.\"\"\"\\n        json_editor = pn.widgets.JSONEditor.from_param(\\n            self.param.config_dict,\\n            mode=\"view\",\\n            menu=False,\\n            sizing_mode=\"stretch_width\",\\n        )\\n        config_viewer = pn.Card(\\n            json_editor,\\n            title=\"CONFIG Viewer\",\\n            sizing_mode=\"stretch_width\",\\n            collapsed=True,\\n        )\\n        return config_viewer\\n\\n    def __panel__(self):\\n        \"\"\"Return the panel this is associated with.\"\"\"\\n        return self._panel', metadata={'source': '/Users/8cz/Github/ornlneutronimaging_org/iMars3D/src/imars3d/ui/base_window.py', 'content_type': 'functions_classes', 'language': <Language.PYTHON: 'python'>}),\n",
      " Document(page_content='#!/usr/bin/env python3\\n\"\"\"Base window class for developing pages for iMars3D GUI.\\n\\nTo test the base window in as a standalone app in Jupyter, run:\\n\\nimport panel as pn\\nfrom imars3d.ui.base_window import BaseWindow\\n\\npn.extension(\\n    \"jsoneditor\",\\n    nthreads=0,\\n    notifications=True,\\n)\\nbase_window = BaseWindow()\\nbase_window  # or pn.panel(base_window) or base_window.show() or base_window.servable()\\n\"\"\"\\nimport panel as pn\\nimport param\\n\\n\\n# Code for: class BaseWindow(pn.viewable.Viewer):', metadata={'source': '/Users/8cz/Github/ornlneutronimaging_org/iMars3D/src/imars3d/ui/base_window.py', 'content_type': 'simplified_code', 'language': <Language.PYTHON: 'python'>}),\n",
      " Document(page_content='def run_task(mtd, task):\\n    \"\"\"Temp solution to run individual tasks.\\n\\n    A permanent solution will be provided via RunEngine instead of using\\n    eval.\\n    \"\"\"\\n    # parse function handle\\n    module_str = task[\"function\"].split(\".\")[0]\\n    func_str = \".\".join(task[\"function\"].split(\".\")[1:])\\n    # prepare inputs\\n    argstr = []\\n    for k, v in task[\"inputs\"].items():\\n        if v in mtd:\\n            argstr.append(f\"{k}={v}\")\\n        else:\\n            argstr.append(f\"{k}=\\'{v}\\'\")\\n    argstr = \",\".join(argstr)\\n    # build call str\\n    evalstr = f\"__import__(\\'{module_str}\\').{func_str}({argstr})\"\\n    # call\\n    rst = eval(evalstr, {}, mtd)\\n    # update\\n    for ok, ov in zip(task[\"outputs\"], rst):\\n        mtd[ok] = ov', metadata={'source': '/Users/8cz/Github/ornlneutronimaging_org/iMars3D/src/imars3d/ui/util.py', 'content_type': 'functions_classes', 'language': <Language.PYTHON: 'python'>})]\n"
     ]
    }
   ],
   "source": [
    "pprint(docs_py[:5])"
   ]
  },
  {
   "cell_type": "code",
   "execution_count": 6,
   "metadata": {},
   "outputs": [],
   "source": [
    "splitter_py = RecursiveCharacterTextSplitter.from_language(\n",
    "    language=Language.PYTHON,\n",
    "    chunk_size=1024,\n",
    "    chunk_overlap=128,\n",
    ")"
   ]
  },
  {
   "cell_type": "code",
   "execution_count": 7,
   "metadata": {},
   "outputs": [],
   "source": [
    "splits_py = splitter_py.split_documents(docs_py)"
   ]
  },
  {
   "cell_type": "code",
   "execution_count": 8,
   "metadata": {},
   "outputs": [
    {
     "name": "stdout",
     "output_type": "stream",
     "text": [
      "[Document(page_content='__version__ = \"1.1.0.dev37+d202403081945\"', metadata={'source': '/Users/8cz/Github/ornlneutronimaging_org/iMars3D/src/imars3d/_version.py', 'content_type': 'simplified_code', 'language': <Language.PYTHON: 'python'>}),\n",
      " Document(page_content='\"\"\"iMars3D: a Python package for neutron imaging and tomography reconstruction.\"\"\"\\n\\nimport logging\\nfrom .backend import corrections, diagnostics, dataio, morph, preparation, reconstruction  # noqa: F401\\n\\nlogging.getLogger(\"imars3d\").setLevel(logging.INFO)\\ntry:\\n    from ._version import __version__  # noqa: F401\\nexcept ImportError:\\n    __version__ = \"unknown\"', metadata={'source': '/Users/8cz/Github/ornlneutronimaging_org/iMars3D/src/imars3d/__init__.py', 'content_type': 'simplified_code', 'language': <Language.PYTHON: 'python'>}),\n",
      " Document(page_content='class BaseWindow(pn.viewable.Viewer):\\n    \"\"\"Base class for all viewer.\"\"\"\\n\\n    # configuration\\n    config_dict = param.Dict(\\n        default={\\n            \"facility\": \"TBD\",\\n            \"instrument\": \"TBD\",\\n            \"ipts\": \"IPTS-00000\",\\n            \"name\": \"TBD\",\\n            \"workingdir\": \"TBD\",\\n            \"outputdir\": \"TBD\",\\n            \"tasks\": [],\\n        },\\n        doc=\"Configuration dictionary\",\\n    )\\n\\n    def __init__(self, **params):\\n        super().__init__(**params)\\n        self._panel = self.json_editor\\n\\n    @param.output(\\n        (\"config_dict\", param.Dict),\\n    )\\n    def as_dict(self):\\n        \"\"\"Return config dict.\"\"\"\\n        return self.config_dict', metadata={'source': '/Users/8cz/Github/ornlneutronimaging_org/iMars3D/src/imars3d/ui/base_window.py', 'content_type': 'functions_classes', 'language': <Language.PYTHON: 'python'>}),\n",
      " Document(page_content='@param.depends(\"config_dict\", on_init=True)\\n    def json_editor(self):\\n        \"\"\"Return a json editor pane.\"\"\"\\n        json_editor = pn.widgets.JSONEditor.from_param(\\n            self.param.config_dict,\\n            mode=\"view\",\\n            menu=False,\\n            sizing_mode=\"stretch_width\",\\n        )\\n        config_viewer = pn.Card(\\n            json_editor,\\n            title=\"CONFIG Viewer\",\\n            sizing_mode=\"stretch_width\",\\n            collapsed=True,\\n        )\\n        return config_viewer\\n\\n    def __panel__(self):\\n        \"\"\"Return the panel this is associated with.\"\"\"\\n        return self._panel', metadata={'source': '/Users/8cz/Github/ornlneutronimaging_org/iMars3D/src/imars3d/ui/base_window.py', 'content_type': 'functions_classes', 'language': <Language.PYTHON: 'python'>}),\n",
      " Document(page_content='#!/usr/bin/env python3\\n\"\"\"Base window class for developing pages for iMars3D GUI.\\n\\nTo test the base window in as a standalone app in Jupyter, run:\\n\\nimport panel as pn\\nfrom imars3d.ui.base_window import BaseWindow\\n\\npn.extension(\\n    \"jsoneditor\",\\n    nthreads=0,\\n    notifications=True,\\n)\\nbase_window = BaseWindow()\\nbase_window  # or pn.panel(base_window) or base_window.show() or base_window.servable()\\n\"\"\"\\nimport panel as pn\\nimport param\\n\\n\\n# Code for: class BaseWindow(pn.viewable.Viewer):', metadata={'source': '/Users/8cz/Github/ornlneutronimaging_org/iMars3D/src/imars3d/ui/base_window.py', 'content_type': 'simplified_code', 'language': <Language.PYTHON: 'python'>})]\n"
     ]
    }
   ],
   "source": [
    "pprint(splits_py[:5])"
   ]
  },
  {
   "cell_type": "code",
   "execution_count": 9,
   "metadata": {},
   "outputs": [],
   "source": [
    "ollama_emd = OllamaEmbeddings()"
   ]
  },
  {
   "cell_type": "code",
   "execution_count": 10,
   "metadata": {},
   "outputs": [],
   "source": [
    "# build the vector store\n",
    "chroma_db = Chroma.from_documents(\n",
    "    documents=splits_py,\n",
    "    embedding=ollama_emd,\n",
    "    persist_directory=\"../vectorDB/imars3d\",\n",
    ")"
   ]
  },
  {
   "cell_type": "code",
   "execution_count": null,
   "metadata": {},
   "outputs": [],
   "source": []
  }
 ],
 "metadata": {
  "kernelspec": {
   "display_name": "Python 3",
   "language": "python",
   "name": "python3"
  },
  "language_info": {
   "codemirror_mode": {
    "name": "ipython",
    "version": 3
   },
   "file_extension": ".py",
   "mimetype": "text/x-python",
   "name": "python",
   "nbconvert_exporter": "python",
   "pygments_lexer": "ipython3",
   "version": "3.11.8"
  }
 },
 "nbformat": 4,
 "nbformat_minor": 2
}
