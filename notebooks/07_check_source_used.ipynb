{
 "cells": [
  {
   "cell_type": "code",
   "execution_count": 1,
   "metadata": {},
   "outputs": [],
   "source": [
    "from pprint import pprint\n",
    "from langchain_community.llms import Ollama\n",
    "from langchain.callbacks.streaming_stdout import StreamingStdOutCallbackHandler\n",
    "from langchain_community.embeddings import OllamaEmbeddings\n",
    "from langchain_community.document_loaders import PyPDFLoader\n",
    "from langchain.text_splitter import RecursiveCharacterTextSplitter\n",
    "from langchain_community.vectorstores import Chroma\n",
    "from langchain.chains import RetrievalQA, RetrievalQAWithSourcesChain\n",
    "from langchain.memory import ConversationBufferMemory"
   ]
  },
  {
   "cell_type": "code",
   "execution_count": 2,
   "metadata": {},
   "outputs": [],
   "source": [
    "model_name = \"mistral\"\n",
    "embedding_name = \"nomic-embed-text\""
   ]
  },
  {
   "cell_type": "code",
   "execution_count": 3,
   "metadata": {},
   "outputs": [],
   "source": [
    "llm = Ollama(model=model_name, callbacks=[StreamingStdOutCallbackHandler()])\n",
    "embeddings = OllamaEmbeddings(model=embedding_name)"
   ]
  },
  {
   "cell_type": "code",
   "execution_count": 4,
   "metadata": {},
   "outputs": [],
   "source": [
    "loader = PyPDFLoader(\"../data/DE-FOA-0003207.pdf\")\n",
    "pages = loader.load_and_split()\n",
    "text_splitter = RecursiveCharacterTextSplitter(chunk_size=4096, chunk_overlap=128)\n",
    "all_splits = text_splitter.split_documents(pages)"
   ]
  },
  {
   "cell_type": "code",
   "execution_count": 5,
   "metadata": {},
   "outputs": [],
   "source": [
    "db = Chroma.from_documents(all_splits, embeddings)"
   ]
  },
  {
   "cell_type": "markdown",
   "metadata": {},
   "source": [
    "depending on which Retrival class used, the memory needs to have different key names."
   ]
  },
  {
   "cell_type": "code",
   "execution_count": 6,
   "metadata": {},
   "outputs": [
    {
     "name": "stdout",
     "output_type": "stream",
     "text": [
      " The given text defines various terms related to grants management, including \"grant,\" \"cost principles,\" \"deadline,\" \"debarment and suspension,\" \"direct costs,\" \"disallowed costs,\" \"domestic organization,\" \"effort,\" \"equipment,\" and \"expanded authorities.\" These definitions cover different aspects of grant administration and help clarify the meaning of key terms used in the context of managing grants. For example, a grant is defined as an agreement between a Federal awarding agency or pass-through entity and a non-Federal entity to transfer funds for carrying out a public purpose authorized by law. Direct costs are those that can be identified with a particular project or activity, while disallowed costs are those charges to a Federal award that the Federal awarding agency determines to be unallowable. Equipment is defined as tangible personal property having a useful life of more than one year and a per-unit acquisition cost which equals or exceeds the lesser of the capitalization level established by the non-Federal entity for financial statement purposes, or $5,000. The definitions provided help ensure consistency and clarity in grant administration and understanding of the various roles and responsibilities of the parties involved.{'answer': ' The given text defines various terms related to grants '\n",
      "           'management, including \"grant,\" \"cost principles,\" \"deadline,\" '\n",
      "           '\"debarment and suspension,\" \"direct costs,\" \"disallowed costs,\" '\n",
      "           '\"domestic organization,\" \"effort,\" \"equipment,\" and \"expanded '\n",
      "           'authorities.\" These definitions cover different aspects of grant '\n",
      "           'administration and help clarify the meaning of key terms used in '\n",
      "           'the context of managing grants. For example, a grant is defined as '\n",
      "           'an agreement between a Federal awarding agency or pass-through '\n",
      "           'entity and a non-Federal entity to transfer funds for carrying out '\n",
      "           'a public purpose authorized by law. Direct costs are those that '\n",
      "           'can be identified with a particular project or activity, while '\n",
      "           'disallowed costs are those charges to a Federal award that the '\n",
      "           'Federal awarding agency determines to be unallowable. Equipment is '\n",
      "           'defined as tangible personal property having a useful life of more '\n",
      "           'than one year and a per-unit acquisition cost which equals or '\n",
      "           'exceeds the lesser of the capitalization level established by the '\n",
      "           'non-Federal entity for financial statement purposes, or $5,000. '\n",
      "           'The definitions provided help ensure consistency and clarity in '\n",
      "           'grant administration and understanding of the various roles and '\n",
      "           'responsibilities of the parties involved.',\n",
      " 'chat_history': [HumanMessage(content='What is the purpose of this funding opportunity?'),\n",
      "                  AIMessage(content=' The given text defines various terms related to grants management, including \"grant,\" \"cost principles,\" \"deadline,\" \"debarment and suspension,\" \"direct costs,\" \"disallowed costs,\" \"domestic organization,\" \"effort,\" \"equipment,\" and \"expanded authorities.\" These definitions cover different aspects of grant administration and help clarify the meaning of key terms used in the context of managing grants. For example, a grant is defined as an agreement between a Federal awarding agency or pass-through entity and a non-Federal entity to transfer funds for carrying out a public purpose authorized by law. Direct costs are those that can be identified with a particular project or activity, while disallowed costs are those charges to a Federal award that the Federal awarding agency determines to be unallowable. Equipment is defined as tangible personal property having a useful life of more than one year and a per-unit acquisition cost which equals or exceeds the lesser of the capitalization level established by the non-Federal entity for financial statement purposes, or $5,000. The definitions provided help ensure consistency and clarity in grant administration and understanding of the various roles and responsibilities of the parties involved.')],\n",
      " 'question': 'What is the purpose of this funding opportunity?',\n",
      " 'source_documents': [Document(page_content=\"81 \\n 1) Create a Workspace: Creating a workspace allows you to complete it online and route it \\nthrough your organization for review before submitting.  \\n \\n2) Complete a Workspace: Add participants to the workspace to work on the application \\ntogether, complete all the required forms online or by downloading PDF versions, and check \\nfor errors before submission. The Workspace progress bar will display the state of your \\napplication proc ess as you apply. As you apply using Workspace, you may click the blue \\nquestion mark icon near the upper -right corner of each page to access context -sensitive help. \\n \\na. Adobe Reader: If you decide not to apply by filling out webforms you can download \\nindividual PDF forms in Workspace so that they will appear similar to other Standard \\nforms. The individual PDF forms can be downloaded and saved to your local device stora ge, network drive(s), or external drives, then accessed through Adobe Reader.  \\n NOTE: Visit the Adobe Software Compatibility page on Grants.gov to download the \\nappropriate version of the software at: https://www.grants.gov/applicants/adobe -\\nsoftware -compatibility   \\n b. Mandatory Fields in Forms: In the forms, you will note fields marked with an asterisk \\nand a different background color. These fields are mandatory fields that must be completed to successfully submit your application. \\n c. Complete SF -424 Fields First: These forms are designed to fill in common required \\nfields across other forms, such as the applicant 's name, address, and SAM UEI. Once it \\nis completed, the information will transfer to the other forms.  \\n 3) Submit a Workspace: An application may be submitted through workspace by clicking the \\nSign and Submit button on the Manage Workspace page, under the Forms tab. Grants.gov recommends submitting your application package at least 24- 48 hours prior to the close date  \\nto provide you with time to correct any potential technical issues that may disrupt the application submission.  \\n 4) Track a Workspace: After successfully submitting a workspace package, a Grants.gov \\nTracking Number (GRANTXXXXXXXX) is automatically assigned to the package. The number will be listed on the Confirmation page that is generated after submission.  \\n For additional training resources, including video tutorials, refer to: https://www.grants.gov/applicants/applicant -training  \\n Applicant Support: Grants.gov provides applicants 24/7 support via the toll -free number 1 -800-\\n518-4726 and email at support@Grants.gov. For questions related to the specific grant \\nopportunity, contact the number listed in the application package of the grant you are applying for funding.  \\n If you are experiencing difficulties with your submission, it is best to call the Grants.gov Support Center and get a ticket number. The Support Center ticket number will assist SC with tracking\", metadata={'page': 88, 'source': '../data/DE-FOA-0003207.pdf'}),\n",
      "                      Document(page_content='120 \\n Program  income  Program  income  means  gross  income  earned  by the non-Federal  entity  that is \\ndirectly  generated  by a supported activity  or earned  as a result  of the Federal  \\naward  during the period  of performance  except  as provided in 2 CFR 200.307 \\nparagraph (f). (See 2 CFR 200. 1 Period  of performance.)  Program  income  \\nincludes  but is not limited  to income  from  fees for services  performed,  the use \\nor rental  or real or personal  property acquired  under  Federal  awards,  the sale of \\ncommodities  or items  fabricated  under  a Federal  award,  license  fees and \\nroyalties  on patents  and copyrights,  and principal  and interest on loans  made  \\nwith Federal  award  funds.  Interest  earned  on advances  of Federal  funds  is not \\nprogram  income.  Except  as otherwise  provided in Federal  statutes,  regulations,  \\nor the terms  and conditions  of the Federal  award,  program  income  does not \\ninclude  rebates,  credits,  discounts,  and interest earned  on any of them.  See also \\n2 CFR 200.407 Prior  written  approval  (prior approval).  See also 35 USC 200-\\n212 “Disposition  of Rights  in Educational  Awards ” for inventions  made under  \\nFederal  awards.  \\nProgram  Manager  Program  Manager  means  the DOE  official  responsible  for the programmatic,  \\nscientific,  and/or  technical  aspects  of a grant.  The same  role is filled  by \\nProgram  Directors,  Program  Officers,  or Project  Directors  at other  Federal  \\nagencies.  \\nProgress  report  Progress  report  means  periodic,  frequently  annual,  report  submitted  by the \\nrecipient and used by DOE  to assess  progress  and to determine whether  to \\nprovide  funding  for the budget  period  that covered  by the report.  \\nProject/performance  site Project/  performance  site means  location(s)  of where  the work  described  in the \\nresearch  plan will be conducted.  \\nProject  period  Project  period  means  the total time for which  Federal  support  of a project  has \\nbeen  programmatically  approved  as shown in the award  documents;  however,  \\nit does not constitute  a commitment  by the Federal  government  to fund the \\nentire  period.  The total award period comprises  the initial competitive  \\nsegment,  any subsequent  competitive  segments  resulting  from  a renewal  \\naward(s),  and extensions.  \\nProposal  See application.  \\nRe-budgeting  Re-budgeting  means  reallocation  of funds  available  for spending  between  \\napproved budget  categories  to allow  best use of funds  to accomplish  the \\nproject  goals.  \\nReal Property  Real property  means land, including land improvements, structures and \\nappurtenances thereto, but excludes moveable machinery and equipment.  \\nRecipient  Recipient means the organization or individual awarded a grant or cooperative \\nagreement by DOE that is responsible and accountable for the use of the funds \\nprovided and for the performance of the grant -supported project or activity. \\nThe recipient is the entire legal entity even if a particular component is designated in award documents. The recipient is legally responsible  and \\naccountable to DOE for the performance and financial aspects of the grant -\\nsupported project or activity. Also known as awardee or grantee.  \\nRenewal  application  Renewal  application  means  an application  requesting  additional  funding  for a \\nperiod subsequent  to that provided by a current  award.  Renewal  applications  \\ncompete for funds  with all other  peer reviewed  applications  and must  be \\ndeveloped  as fully  as though  the applicant  is applying  for the first time.   \\nResearch  Research  is defined as a systematic study directed toward fuller scientific \\nknowledge or understanding of the subject studied. See 2 CFR 200.1 Research \\nand Development (R&D).  \\nResearch  misconduct  Research  misconduct  means fabrication, falsification, or plagiarism in \\nproposing, performing, or reviewing research, or in reporting research results,', metadata={'page': 127, 'source': '../data/DE-FOA-0003207.pdf'}),\n",
      "                      Document(page_content='117 \\n Expiration  date Expiration  date means  generally,  the date signifying  the end of the current  \\nproject  period,  after which  the recipient is not authorized  to obligate  grant  \\nfunds.  \\nFacilities  and administrative  \\ncosts Facilities  and administrative  costs  mean  costs  that are incurred  by a recipient \\nfor common  or joint objectives  and that, therefore,  cannot  be identified  \\nspecifically  with a particular  project  or program.  These  costs  also are known as \\nindirect  costs.  \\nFederal  financial  report  Federal  financial  report  means  submitted  on Standard  Form  (SF) 425, to \\nindicate  the status  of awarded  funds  for the period  covered.  Frequency  of \\nreporting  is specified  in the Reporting Checklist  provided as part of the award  \\ndocuments.   \\nFinancial  assistance  Financial  assistance  means  transfer  by DOE  of money  or property  to an \\neligible  entity  to support  or stimulate  a public  purpose  authorized  by statute.  \\nFinancial  status  report  Financial  status  report  means  see Federal  Financial  Report.  \\nForeign  travel  Foreign  travel  is meant  to include  travel  outside  of North America  (Canada, \\nMexico, and the  United  States ) and U.S. territories  and possessions  (Guam,  \\nAmerican  Samoa,  Puerto  Rico,  the U.S. Virgin  Islands.  A trip is considered  \\nforeign  travel  for all legs of the itinerary  if the traveler  does not return  to his or \\nher post prior  to departure  for a foreign  destination.  Costs  for foreign  travel  \\nmay be restricted  by the language  of a Funding  Opportunity  Announcement.  \\nFunding  opportunity  \\nannouncement  (FOA)  Funding  opportunity  announcement  (FOA)  means  a publicly  available  \\ndocument  by which  a Federal  Agency  makes  known  its intentions  to award  \\ndiscretionary  grants  or cooperative  agreements,  usually  as a result  of \\ncompetition  for funds.  FOAs  may be known as program  announcements,  \\nrequests  for applications,  notices  of funding availability,  solicitations,  or other  \\nnames  depending on the Agency  and type of program.  FOA s can be found at \\nwww.Grants.gov . An FOA  may also be known  as a solicitation.  \\nGrant  agreement  Grant  agreement  means  a legal  instrument  of financial  assistance  between  a \\nFederal  awarding  agency  or pass-through entity  and a non-Federal  entity  that, \\nconsistent  with 31 USC 6302,  6304:  \\n(a) Is used to enter  into a relationship  the principal  purpose  of which  is to \\ntransfer  anything of value  from  the Federal  awarding  agency  or pass-through \\nentity  to the non-Federal  entity  to carry  out a public  purpose  authorized  by a \\nlaw of the United  States  (see 31 USC 6101(3));  and not to acquire  property  or \\nservices  for the Federal  awarding  agency  or pass-through entity ’s direct  benefit  \\nor use; \\n(b) Is distinguished  from  a cooperative agreement  in that it does not \\nprovide  for substantial involvement  between  the Federal  awarding  agency  or \\npass-through  entity  and the non-Federal  entity  in carrying  out the activity  \\ncontemplated  by the Federal  award.  \\n(c) Does  not include  an agreement  that provides  only:  \\n(1) Direct  United  States  Government  cash assistance  to an individual;  \\n(2) A subsidy;  \\n(3) A loan;  \\n(4) A loan guarantee;  or \\n(5) Insurance.  \\nGrant -supported  project  or \\nactivity  Grant -supported  project  or activity  means  those  activities  specified  or \\ndescribed  in a grant  application  or in a subsequent  submission  that are \\napproved by DOE  for funding,  regardless  of whether  Federal  funding \\nconstitutes  all or only a portion  of the financial  support  necessary  to carry  \\nthem  out. \\nGrants.gov  Grants.gov  (https:// www. Grants.gov /) has been  designated  by the Office  of \\nManagement  and Budget  as the single  access  point  for all grant  programs  \\noffered  by 26 Federal  grant -making  agencies.  It provides  a single  interface  for', metadata={'page': 124, 'source': '../data/DE-FOA-0003207.pdf'}),\n",
      "                      Document(page_content='116 \\n Cost  principles  Cost principles  means  the government -wide  principles,  2 CFR 200 Subpart E  \\n(or, in the case of commercial  organizations,  the Federal  Acquisition  \\nRegulation  [48 CFR 31], or, in the case of hospitals,  see Appendix IX to Part \\n200—Hospital Cost Principles , Appendix E, “Principles  for Determining  Costs  \\nApplicable  to Research  and Development  Under  Grants  and Contracts  with \\nHospitals ”), on allowability  and unallowability  of costs  under  federally  \\nsponsored  agreements.   \\nCost  sharing  or matching  Cost sharing  or matching  means  the portion  of project  costs  not paid by \\nFederal  funds  (unless  otherwise  authorized  by Federal  statute).  See also 2 CFR \\n200.306  Cost sharing  or matching.  \\nDeadline  Deadline  means  the published  date and/or  time that a grant  application  is to be \\nsubmitted  to the funding  agency.  \\nDebarment  and suspension  Debarment  and suspension  mean  the actions  taken  by a debarring  official  in \\naccordance with OMB  guidance  at 2 CFR 180, “Non-procurement  Debarment  \\nand Suspension, ” to exclude a person or organization from  participating  in \\ngrants  and other  non-procurement  awards  government -wide.  If debarred  or \\nsuspended,  the person or organization may not receive financial  assistance  \\n(under  a grant,  cooperative agreement,  or sub-award,  or contract  under  a grant)  \\nfor a specified  period  of time.  Debarments  and suspensions  carried  out \\npursuant  to 2 CFR 376 are distinct from  post-award  suspension action  by an \\nawarding  agency.  See 2 CFR 901 for DOE implementation.  \\nDirect  costs  Direct  costs  mean  costs  that can be identified  specifically  with a particular  \\nsponsored project,  an instructional  activity,  or any other  institutional activity,  \\nor that can be directly  assigned  to such activities  relatively  easily  with a high \\ndegree  of accuracy.  See 2 CFR 200.413.  \\nDisallowed  costs  Disallowed  costs  mean  those  charges  to a Federal  award  that the Federal  \\nawarding  agency  or pass-through entity  determines  to be unallowable,  in \\naccordance with the applicable  Federal  statutes,  regulations,  or the terms  and \\nconditions  of the Federal  award.  \\nDomestic  organization  Domestic  organization  means  a public  (including  a State  or other  \\ngovernmental  agency)  or private  non-profit  or for-profit  organization  that is \\nlocated  in the United  States  or its territories,  is subject  to U.S. laws,  and \\nassumes legal  and financial  accountability  for awarded  funds  and for the \\nperformance  of the grant -supported  activities.  \\nEffort  Effort  means  the amount  of time,  usually  expressed  as a percentage  of the \\ntotal,  which  a faculty  member  or other  employee spends  on a sponsored \\nproject.  No one is allowed  to spend more  than 100%  total commitment  on all \\nacademic activities,  including grant -sponsored research,  university -sponsored  \\nresearch,  teaching,  administration,  advising  and other  contracted  duties.  Effort  \\nis indicated  on the budget  in units  of person -months.  \\nEquipment  Equipment  means  tangible  personal  property  (including  information  \\ntechnology systems)  having a useful  life of more  than one year and a per-unit \\nacquisition  cost which  equals  or exceeds  the lesser  of the capitalization  level  \\nestablished  by the non-Federal  entity  for financial  statement  purposes,  or \\n$5,000.  See also 2 CFR 200. 1 Capital assets,  Computing devices,  General  \\npurpose  equipment,  Information  technology systems,  Special  purpose  \\nequipment,  and Supplies.  \\nExpanded  authorities  Expanded  authorities  means  authorization  to recipients under  certain  research  \\ngrant  mechanisms  which  waives  the requirement  for prior  agency  approval  for \\nspecified  actions  related  to awards.  Example:  90-day pre-award  spending \\nauthority,  no cost extensions  for up to one additional year,  and automatic', metadata={'page': 123, 'source': '../data/DE-FOA-0003207.pdf'})],\n",
      " 'sources': ''}\n"
     ]
    }
   ],
   "source": [
    "memory = ConversationBufferMemory(\n",
    "    memory_key=\"chat_history\",\n",
    "    return_messages=True,\n",
    "    input_key=\"question\",\n",
    "    output_key=\"answer\",\n",
    ")\n",
    "\n",
    "qa = RetrievalQAWithSourcesChain.from_chain_type(\n",
    "        llm=llm,\n",
    "        chain_type=\"stuff\",\n",
    "        retriever=db.as_retriever(),\n",
    "        memory=memory,\n",
    "        return_source_documents=True,\n",
    "    )\n",
    "\n",
    "response = qa.invoke(\"What is the purpose of this funding opportunity?\")\n",
    "\n",
    "pprint(response)"
   ]
  },
  {
   "cell_type": "code",
   "execution_count": 7,
   "metadata": {},
   "outputs": [
    {
     "name": "stdout",
     "output_type": "stream",
     "text": [
      " Title: FY 2024 Funding for Accelerated, Inclusive Research (FAIR)\n",
      "Funding Opportunity Announcement (FOA) Number: DE-FOA-0003227\n",
      "Issuer: Department of Energy (DOE), Office of Science (SC)\n",
      "Submission Deadline for Pre-Applications: April 23, 2024, at 5:00 PM Eastern Time\n",
      "Pre-Application Response Date: May 28, 2024, at 11:59 PM Eastern Time\n",
      "Submission Deadline for Applications: July 16, 2024, at 11:59 PM Eastern Time\n",
      "\n",
      "The Department of Energy (DOE), Office of Science (SC) has released a Funding Opportunity Announcement (FOA) entitled \"FY 2024 Funding for Accelerated, Inclusive Research (FAIR)\" with an issue date of March 12, 2024. This is an Initial FOA with a CFDA number of 81.049. The goal of this program is to support research that accelerates the transition of advanced materials and processes to industrial applications while promoting diversity, equity, inclusion, and broadening participation in STEM fields.\n",
      "\n",
      "Key Features:\n",
      "1. Two-stage application process with a required pre-application submission on or before April 23, 2024, followed by a full application submission on or before July 16, 2024.\n",
      "2. Research projects should focus on accelerating the transition of advanced materials and processes to industrial applications, as well as promoting diversity, equity, inclusion, and broadening participation in STEM fields.\n",
      "3. The FOA emphasizes collaborations between academic institutions, national laboratories, private sector partners, and other organizations.\n",
      "4. A pre-application is required and must be submitted by an authorized institutional representative.\n",
      "5. Pre-applications will undergo a merit review process to determine eligibility for full application submission.\n",
      "6. Awards made under this FOA are subject to DOE administrative and national policy requirements.\n",
      "\n",
      "For more details, please refer to the complete text of the FOA document provided.{'chat_history': [HumanMessage(content='Give me an executive summary of this FOA document.'),\n",
      "                  AIMessage(content=' Title: FY 2024 Funding for Accelerated, Inclusive Research (FAIR)\\nFunding Opportunity Announcement (FOA) Number: DE-FOA-0003227\\nIssuer: Department of Energy (DOE), Office of Science (SC)\\nSubmission Deadline for Pre-Applications: April 23, 2024, at 5:00 PM Eastern Time\\nPre-Application Response Date: May 28, 2024, at 11:59 PM Eastern Time\\nSubmission Deadline for Applications: July 16, 2024, at 11:59 PM Eastern Time\\n\\nThe Department of Energy (DOE), Office of Science (SC) has released a Funding Opportunity Announcement (FOA) entitled \"FY 2024 Funding for Accelerated, Inclusive Research (FAIR)\" with an issue date of March 12, 2024. This is an Initial FOA with a CFDA number of 81.049. The goal of this program is to support research that accelerates the transition of advanced materials and processes to industrial applications while promoting diversity, equity, inclusion, and broadening participation in STEM fields.\\n\\nKey Features:\\n1. Two-stage application process with a required pre-application submission on or before April 23, 2024, followed by a full application submission on or before July 16, 2024.\\n2. Research projects should focus on accelerating the transition of advanced materials and processes to industrial applications, as well as promoting diversity, equity, inclusion, and broadening participation in STEM fields.\\n3. The FOA emphasizes collaborations between academic institutions, national laboratories, private sector partners, and other organizations.\\n4. A pre-application is required and must be submitted by an authorized institutional representative.\\n5. Pre-applications will undergo a merit review process to determine eligibility for full application submission.\\n6. Awards made under this FOA are subject to DOE administrative and national policy requirements.\\n\\nFor more details, please refer to the complete text of the FOA document provided.')],\n",
      " 'query': 'Give me an executive summary of this FOA document.',\n",
      " 'result': ' Title: FY 2024 Funding for Accelerated, Inclusive Research '\n",
      "           '(FAIR)\\n'\n",
      "           'Funding Opportunity Announcement (FOA) Number: DE-FOA-0003227\\n'\n",
      "           'Issuer: Department of Energy (DOE), Office of Science (SC)\\n'\n",
      "           'Submission Deadline for Pre-Applications: April 23, 2024, at 5:00 '\n",
      "           'PM Eastern Time\\n'\n",
      "           'Pre-Application Response Date: May 28, 2024, at 11:59 PM Eastern '\n",
      "           'Time\\n'\n",
      "           'Submission Deadline for Applications: July 16, 2024, at 11:59 PM '\n",
      "           'Eastern Time\\n'\n",
      "           '\\n'\n",
      "           'The Department of Energy (DOE), Office of Science (SC) has '\n",
      "           'released a Funding Opportunity Announcement (FOA) entitled \"FY '\n",
      "           '2024 Funding for Accelerated, Inclusive Research (FAIR)\" with an '\n",
      "           'issue date of March 12, 2024. This is an Initial FOA with a CFDA '\n",
      "           'number of 81.049. The goal of this program is to support research '\n",
      "           'that accelerates the transition of advanced materials and '\n",
      "           'processes to industrial applications while promoting diversity, '\n",
      "           'equity, inclusion, and broadening participation in STEM fields.\\n'\n",
      "           '\\n'\n",
      "           'Key Features:\\n'\n",
      "           '1. Two-stage application process with a required pre-application '\n",
      "           'submission on or before April 23, 2024, followed by a full '\n",
      "           'application submission on or before July 16, 2024.\\n'\n",
      "           '2. Research projects should focus on accelerating the transition '\n",
      "           'of advanced materials and processes to industrial applications, as '\n",
      "           'well as promoting diversity, equity, inclusion, and broadening '\n",
      "           'participation in STEM fields.\\n'\n",
      "           '3. The FOA emphasizes collaborations between academic '\n",
      "           'institutions, national laboratories, private sector partners, and '\n",
      "           'other organizations.\\n'\n",
      "           '4. A pre-application is required and must be submitted by an '\n",
      "           'authorized institutional representative.\\n'\n",
      "           '5. Pre-applications will undergo a merit review process to '\n",
      "           'determine eligibility for full application submission.\\n'\n",
      "           '6. Awards made under this FOA are subject to DOE administrative '\n",
      "           'and national policy requirements.\\n'\n",
      "           '\\n'\n",
      "           'For more details, please refer to the complete text of the FOA '\n",
      "           'document provided.',\n",
      " 'source_documents': [Document(page_content='55 \\n • FOA  Number:  Include the FOA number printed on the cover of this FOA.  \\n• DOE/ SC Program  Office:  \\n• DOE/ SC Program  Office  Technical  Contact:  \\n• PAMS  Pre-application  tracking  number:  \\n• Subprogram as identified in  Section  I of this FOA:  \\n \\nImportant  Instructions  to the Sponsored Research  Office  of Submitting  Institutions : SC \\nrequires  that you create  one single machine -readable PDF file that contains the DOE Title Page, \\nproject narrative, all required appendices, and other attachments. This single PDF file may not be scanned from a printed document and must be attached in Field 8 on the Grants.gov form. This must be a plain PDF file consisting of text, numbers, and images without editable fields, signatures, passwords, redactions, or other advanced features available in some PDF -compatible \\nsoftware. Do not use PDF portfolios or binders. The project narrativ e will be read by SC staff \\nusing the full version of Adobe Acrobat: Please ensure that the narrative is readable in Acrobat. If combining multiple files into one project narrative, ensure that a PDF portfolio or binder is not created. If creating PDF files using any software other than Adobe Acrobat, please use a “ Print to \\nPDF” or equivalent process to ensure that all content is visible in the project narrative. Once a \\nproject narrative has been assembled, please submit the combined project narrative file t hrough a \\n“Print to PDF ” or equivalent process to ensure that all content is visible in one PDF file that can \\nbe viewed in Adobe Acrobat. Do  not attach  any of the appendices  listed  in this paragraph  \\nseparately  in any other  field  in Grants.gov. If you do, these additional  attachments  will not  \\nbecome part  of the application  in PAMS.  \\n P\\nROJECT  NARRATIVE  (FIELD  8 ON THE FORM )  \\n The project  narrative must  not exceed  a page limit of  12 pages  of technical  information, \\nincluding charts,  graphs, maps,  photographs, and  other  pictorial presentations, when  printed \\nusing standard  letter -size (8.5- inch x 11- inch)  paper  with  1-inch margins  (top, bottom, left,  and \\nright).  The body text font  of all main text must  not be smaller  than  11 point.  Merit  reviewers  will \\nonly consider  the number  of pages  specified  in the first sentence of  this paragraph. This  page  \\nlimit does  not apply to  the Title Page,  Budget  Page(s),  Budget  Justification,  biographical  \\nmaterial,  publications  and references,  appendices,  and an optional table of content, each  of which  \\nmay have  its own  page  limit defined later in this FOA . \\n Do not include  any websites  (URLs) that  provide  supplementary or  additional  information  that \\nconstitutes  a part of the application. Merit  reviewers  are not  required  to access  web sites;  \\nhowever, Internet  publications  in a list of  references  will be  treated  identically  to print  \\npublications . See \\nSection  VIII  of this FOA for instructions  on how  to mark  proprietary  \\napplication  information. To  attach  a Project  Narrative,  click  “Add Attachment. ” \\n The Project Narrative comprises the research plan for the project. It should contain enough background material in the Introduction, including a brief review of the relevant literature and any prior research in this area, to demonstrate sufficient knowledge of the state of the science. The major part of the narrative should be devoted to a descri ption and justification of the \\nproposed project, including details methods  to be used. It should also include a timeline for the \\nmajor activities of the proposed project , indicate which project personnel will be responsible for', metadata={'page': 62, 'source': '../data/DE-FOA-0003207.pdf'}),\n",
      "                      Document(page_content='49 \\n Program and Subprogram from Section I of the FOA  \\n \\nThis information  must  be followed by a  clear  and concise description of  the objectives  and \\ntechnical  approach  of the proposed research.  The pre-application  may  not exceed  two pages,  \\nexcluding the title  page,  when printed using standard letter -size (8.5 -inch x 11-inch)  paper with \\n1-inch margins  (top, bottom, left, and right). The  body text  font must not be  smaller  than  11 \\npoint . Figures  and references,  if included, must  fit within  the two-page  limit.  \\n \\nThe pre -application must include a letter of collaboration from the partnering investigator, which \\ndoes not count toward the pre -application page limit. The letter of collaboration should state the \\nintention to participate, but it must not be written as a recommendation or endorsement letter. \\nThe letter of collaboration may contain two and only two sentences and must use the following \\nformat:  \\n \\nDear <Principal Investigator Name>:  \\n \\nIf your proposal entitled, “<Proposal Name>,” is selected for funding under the SC FAIR FOA, it is my intent to collaborate in this research by <Complete Sentence With a Very Short Description of What the Collaborator Offers to Do or Provide>.  \\n Thank you for the opportunity to participate.  Sincerely,  \\n \\n<Partner Investigator’s Name and Signature Block> \\n \\nIn addition, the pre -application must include a listing of senior/key personnel and a listing of \\nindividuals who should not serve as merit reviewers of a subsequent application. Detailed \\ninstructions for how to craft the required  listing s are provided in Section VIII  of this FOA.  Note \\nthat the listing of individuals who should not serve as merit reviewers  is rarely empty \\nbecause the instructions contain mandatory inclusions requirements.  This listing will not \\ncount toward the pre -application ’s page limit.  The list of individuals must be included as an \\n“Additional Attachment” to your pre -application in PAMS.  \\n The pre -application must be machine -readable. Do not submit a scanned image of a printed \\ndocument.  P\\nRE-APPLICATION REVIEW  \\n SC may evaluate all or some portion of pre -applications to determine their competitiveness \\nwithin a program or subprogram . \\n Any review will be based on the following criteria:  \\n1. Responsiveness to the objectives of the FOA  as stated in Section I ; \\n2. Scientific and technical merit;  \\n3. Appropriateness of the proposed research approaches ; and', metadata={'page': 56, 'source': '../data/DE-FOA-0003207.pdf'}),\n",
      "                      Document(page_content='69 \\n Section VI – AWARD ADMINISTRATION INFORMATION  \\n \\nVI.A. AWARD NOTICES  \\n VI.A. 1. Notice of Selection for Award Negotiation  \\n Applicants Selected for Award Negotiation Notification : DOE will notify applicants selected \\nfor award negotiation. This notice of selection for award negotiation is not an authorization for the applicant/recipient to begin performance.  \\n Non-selected Notification : Organizations whose applications have not been selected will be \\nadvised as promptly as possible. This notice will explain why the application was not selected.  \\n VI.A. 2. Notice of Award  \\n An Assistance Agreement issued by the DOE C ontracting O fficer is the authorizing award \\ndocument. It normally includes, either as an attachment or by reference, the following items: (1) Special Terms and Conditions, (2) Intellectual Property Provisions, (3) Federal Assistance Reporting Checklist and Instructions, (4) Budget Pages, (5) The Research Terms  and Conditions , \\navailable at https://www.nsf.gov/pubs/policydocs/rtc/rtcoverlay_march17.pdf , and DOE Agency \\nSpecific Requirements, available at https://www.nsf.gov/awards/managing/rtc.jsp, (6) Applicable \\nprogram regulations, 10 CFR 605 at https://www.ecfr.gov/ , (7) DOE Assistance Regulations, 2 \\nCFR 200 as amended by 2 CFR 910 at https://www.ecfr.gov/ , (8) Application/proposal as \\napproved by DOE, (9) National Policy Assurances to Be Incorporated as Award Terms in effect on date of award at https://www.nsf.gov/awards/managing/rtc.jsp.  \\n T\\nERMS AND CONDITIONS  \\n Sample DOE Special Terms and Conditions for Use in Most Grants and Cooperative Agreements are located at https://energy.gov/management/office -management/operational -\\nmanagement/financial -assistance/financial -assistance -forms  under Award Terms. \\n The standard DOE financial assistance intellectual property provisions applicable to various types of recipients are located at:  \\nhttps://energy.gov/gc/standard- intellectual -property- ip-provisions -financial -assistance- awards   \\n N\\nATIONAL POLICY ASSURANCES  \\n The National Policy Assurances To Be Incorporated As Award Terms are located at \\nhttps://energy.gov/management/office -management/operational -management/financial -\\nassistance/financial -assistance- forms  under Award Terms. \\n \\nVI.B. ADMINISTRATIVE AND NATIONAL POLICY REQUIREMENTS  \\n Additional policy provisions applicable to this FOA are included in the list below. Awards made under this FOA are subject to the respective Administrative and National Policy Requirements.', metadata={'page': 76, 'source': '../data/DE-FOA-0003207.pdf'}),\n",
      "                      Document(page_content='DEPARTMENT OF ENERGY (DOE) \\nOFFICE OF SCIENCE  (SC)  \\n \\n \\n \\n \\n \\n \\n \\n \\n \\nFY 2024  FUNDING FOR ACCELERATED , INCLUSIVE RESEARCH \\n(FAIR)  \\n \\n \\nFUNDING OPPORTUNITY ANNOUNCEMENT (FOA)  NUMBER : \\nDE-FOA -0003207 \\n \\nFOA  TYPE: INITIAL  \\nCFDA  NUMBER : 81.049  \\n \\n \\n \\n \\nFOA Issue Date:  March 12, 2024  \\nSubmission Deadline for Pre -Applications:  April 23, 2024  at 5:00 PM Eastern Time  \\nA Pre- Application is required . \\nPre-Applications must be submitted by an \\nauthorized institutional representative . \\nPre-Application Response Date:  May 28, 2024  at 11:59 PM Eastern Time  \\nSubmission Deadline for Applications:  July 16, 2024  at 11:59 PM Eastern Time', metadata={'page': 0, 'source': '../data/DE-FOA-0003207.pdf'})]}\n"
     ]
    }
   ],
   "source": [
    "memory = ConversationBufferMemory(\n",
    "    memory_key=\"chat_history\",\n",
    "    return_messages=True,\n",
    "    input_key=\"query\",\n",
    "    output_key=\"result\",\n",
    ")\n",
    "\n",
    "qa = RetrievalQA.from_chain_type(\n",
    "        llm=llm,\n",
    "        chain_type=\"stuff\",\n",
    "        retriever=db.as_retriever(),\n",
    "        memory=memory,\n",
    "        return_source_documents=True,\n",
    "    )\n",
    "\n",
    "response = qa.invoke(\"Give me an executive summary of this FOA document.\")\n",
    "\n",
    "pprint(response)"
   ]
  },
  {
   "cell_type": "code",
   "execution_count": null,
   "metadata": {},
   "outputs": [],
   "source": []
  }
 ],
 "metadata": {
  "kernelspec": {
   "display_name": "Python 3",
   "language": "python",
   "name": "python3"
  },
  "language_info": {
   "codemirror_mode": {
    "name": "ipython",
    "version": 3
   },
   "file_extension": ".py",
   "mimetype": "text/x-python",
   "name": "python",
   "nbconvert_exporter": "python",
   "pygments_lexer": "ipython3",
   "version": "3.11.8"
  }
 },
 "nbformat": 4,
 "nbformat_minor": 2
}
