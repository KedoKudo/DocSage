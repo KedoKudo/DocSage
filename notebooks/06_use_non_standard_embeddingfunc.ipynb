{
 "cells": [
  {
   "cell_type": "code",
   "execution_count": 1,
   "metadata": {},
   "outputs": [],
   "source": [
    "from langchain_community.llms import Ollama\n",
    "from langchain.callbacks.streaming_stdout import StreamingStdOutCallbackHandler\n",
    "from langchain_community.embeddings import OllamaEmbeddings\n",
    "from langchain_community.document_loaders import PyPDFLoader\n",
    "from langchain.text_splitter import RecursiveCharacterTextSplitter\n",
    "from langchain_community.vectorstores import Chroma\n",
    "from langchain.chains import RetrievalQA\n",
    "from langchain.memory import ConversationBufferMemory"
   ]
  },
  {
   "cell_type": "code",
   "execution_count": 2,
   "metadata": {},
   "outputs": [],
   "source": [
    "model_name = \"mistral\"\n",
    "embedding_name = \"nomic-embed-text\""
   ]
  },
  {
   "cell_type": "code",
   "execution_count": 3,
   "metadata": {},
   "outputs": [],
   "source": [
    "llm = Ollama(model=model_name, callbacks=[StreamingStdOutCallbackHandler()])\n",
    "embeddings = OllamaEmbeddings(model=embedding_name)"
   ]
  },
  {
   "cell_type": "code",
   "execution_count": 4,
   "metadata": {},
   "outputs": [],
   "source": [
    "loader = PyPDFLoader(\"../data/DE-FOA-0003207.pdf\")\n",
    "pages = loader.load_and_split()\n",
    "text_splitter = RecursiveCharacterTextSplitter(chunk_size=4096, chunk_overlap=128)\n",
    "all_splits = text_splitter.split_documents(pages)"
   ]
  },
  {
   "cell_type": "code",
   "execution_count": 5,
   "metadata": {},
   "outputs": [],
   "source": [
    "db = Chroma.from_documents(all_splits, embeddings)"
   ]
  },
  {
   "cell_type": "code",
   "execution_count": 6,
   "metadata": {},
   "outputs": [],
   "source": [
    "memory = ConversationBufferMemory(memory_key=\"chat_history\", return_messages=True)"
   ]
  },
  {
   "cell_type": "code",
   "execution_count": 7,
   "metadata": {},
   "outputs": [],
   "source": [
    "qa = RetrievalQA.from_chain_type(\n",
    "        llm=llm,\n",
    "        chain_type=\"stuff\",\n",
    "        retriever=db.as_retriever(),\n",
    "        memory=memory,\n",
    "    )"
   ]
  },
  {
   "cell_type": "code",
   "execution_count": 8,
   "metadata": {},
   "outputs": [
    {
     "name": "stdout",
     "output_type": "stream",
     "text": [
      " Title: FY 2024 Funding for Accelerated, Inclusive Research (FAIR)\n",
      "\n",
      "The Department of Energy (DOE), Office of Science (SC), has announced a Funding Opportunity Announcement (FOA) with number DE-FOA-0003207 and type \"Initial.\" The CFDA number is 81.049. This FOA is for the FAIR program, which supports accelerated and inclusive research in various scientific disciplines.\n",
      "\n",
      "Key Dates:\n",
      "- Issue Date: March 12, 2024\n",
      "- Submission Deadline for Pre-Applications: April 23, 2024, at 5:00 PM Eastern Time\n",
      "- Pre-Application Response Date: May 28, 2024, at 11:59 PM Eastern Time\n",
      "- Submission Deadline for Applications: July 16, 2024, at 11:59 PM Eastern Time\n",
      "\n",
      "To apply, you must submit a pre-application. The pre-application should include the project title, applicant/institution information, and a clear description of the objectives and technical approach of the proposed research. The pre-application should not exceed two pages, excluding the title page, when printed using standard letter-size (8.5-inch x 11-inch) paper with 1-inch margins. It must be machine-readable and not include any proprietary or sensitive business information.\n",
      "\n",
      "A collaborator's letter of intent to participate is required but should not be written as a recommendation or endorsement letter. The list of individuals who should not serve as merit reviewers and senior/key personnel listing are also required but will not count toward the pre-application page limit.\n",
      "\n",
      "The FAIR program aims to evaluate all or some portion of pre-applications to determine their competitiveness within a program or subprogram based on responsiveness to the objectives of the FOA, scientific and technical merit, appropriateness of proposed research approaches, and adherence to mandatory inclusion requirements."
     ]
    },
    {
     "data": {
      "text/plain": [
       "{'query': 'Give me a summary of this FOA',\n",
       " 'chat_history': [HumanMessage(content='Give me a summary of this FOA'),\n",
       "  AIMessage(content=' Title: FY 2024 Funding for Accelerated, Inclusive Research (FAIR)\\n\\nThe Department of Energy (DOE), Office of Science (SC), has announced a Funding Opportunity Announcement (FOA) with number DE-FOA-0003207 and type \"Initial.\" The CFDA number is 81.049. This FOA is for the FAIR program, which supports accelerated and inclusive research in various scientific disciplines.\\n\\nKey Dates:\\n- Issue Date: March 12, 2024\\n- Submission Deadline for Pre-Applications: April 23, 2024, at 5:00 PM Eastern Time\\n- Pre-Application Response Date: May 28, 2024, at 11:59 PM Eastern Time\\n- Submission Deadline for Applications: July 16, 2024, at 11:59 PM Eastern Time\\n\\nTo apply, you must submit a pre-application. The pre-application should include the project title, applicant/institution information, and a clear description of the objectives and technical approach of the proposed research. The pre-application should not exceed two pages, excluding the title page, when printed using standard letter-size (8.5-inch x 11-inch) paper with 1-inch margins. It must be machine-readable and not include any proprietary or sensitive business information.\\n\\nA collaborator\\'s letter of intent to participate is required but should not be written as a recommendation or endorsement letter. The list of individuals who should not serve as merit reviewers and senior/key personnel listing are also required but will not count toward the pre-application page limit.\\n\\nThe FAIR program aims to evaluate all or some portion of pre-applications to determine their competitiveness within a program or subprogram based on responsiveness to the objectives of the FOA, scientific and technical merit, appropriateness of proposed research approaches, and adherence to mandatory inclusion requirements.')],\n",
       " 'result': ' Title: FY 2024 Funding for Accelerated, Inclusive Research (FAIR)\\n\\nThe Department of Energy (DOE), Office of Science (SC), has announced a Funding Opportunity Announcement (FOA) with number DE-FOA-0003207 and type \"Initial.\" The CFDA number is 81.049. This FOA is for the FAIR program, which supports accelerated and inclusive research in various scientific disciplines.\\n\\nKey Dates:\\n- Issue Date: March 12, 2024\\n- Submission Deadline for Pre-Applications: April 23, 2024, at 5:00 PM Eastern Time\\n- Pre-Application Response Date: May 28, 2024, at 11:59 PM Eastern Time\\n- Submission Deadline for Applications: July 16, 2024, at 11:59 PM Eastern Time\\n\\nTo apply, you must submit a pre-application. The pre-application should include the project title, applicant/institution information, and a clear description of the objectives and technical approach of the proposed research. The pre-application should not exceed two pages, excluding the title page, when printed using standard letter-size (8.5-inch x 11-inch) paper with 1-inch margins. It must be machine-readable and not include any proprietary or sensitive business information.\\n\\nA collaborator\\'s letter of intent to participate is required but should not be written as a recommendation or endorsement letter. The list of individuals who should not serve as merit reviewers and senior/key personnel listing are also required but will not count toward the pre-application page limit.\\n\\nThe FAIR program aims to evaluate all or some portion of pre-applications to determine their competitiveness within a program or subprogram based on responsiveness to the objectives of the FOA, scientific and technical merit, appropriateness of proposed research approaches, and adherence to mandatory inclusion requirements.'}"
      ]
     },
     "execution_count": 8,
     "metadata": {},
     "output_type": "execute_result"
    }
   ],
   "source": [
    "qa.invoke(\"Give me a summary of this FOA\")"
   ]
  },
  {
   "cell_type": "code",
   "execution_count": null,
   "metadata": {},
   "outputs": [],
   "source": []
  }
 ],
 "metadata": {
  "kernelspec": {
   "display_name": "Python 3",
   "language": "python",
   "name": "python3"
  },
  "language_info": {
   "codemirror_mode": {
    "name": "ipython",
    "version": 3
   },
   "file_extension": ".py",
   "mimetype": "text/x-python",
   "name": "python",
   "nbconvert_exporter": "python",
   "pygments_lexer": "ipython3",
   "version": "3.11.8"
  }
 },
 "nbformat": 4,
 "nbformat_minor": 2
}
