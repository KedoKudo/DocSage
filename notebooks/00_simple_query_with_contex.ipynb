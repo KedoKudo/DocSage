{
 "cells": [
  {
   "cell_type": "markdown",
   "metadata": {},
   "source": [
    "# Call model without context"
   ]
  },
  {
   "cell_type": "code",
   "execution_count": 1,
   "metadata": {},
   "outputs": [],
   "source": [
    "from langchain.callbacks.streaming_stdout import StreamingStdOutCallbackHandler\n",
    "\n",
    "callbacks = [StreamingStdOutCallbackHandler()]"
   ]
  },
  {
   "cell_type": "code",
   "execution_count": 2,
   "metadata": {},
   "outputs": [],
   "source": [
    "from langchain.llms import Ollama\n",
    "\n",
    "model = \"mistral\"\n",
    "\n",
    "llm = Ollama(model=model, callbacks=callbacks)"
   ]
  },
  {
   "cell_type": "code",
   "execution_count": 3,
   "metadata": {},
   "outputs": [
    {
     "name": "stdout",
     "output_type": "stream",
     "text": [
      " ORNL-Next is a collaborative research and development effort between Oak Ridge National Laboratory (ORNL) and several industry partners to design, build, and demonstrate a versatile and scalable advanced manufacturing technology system. The main goal of ORNL-Next is to accelerate the transition of novel materials and technologies from laboratory scale to industrial production.\n",
      "\n",
      "The ORNL-Next project focuses on developing an integrated, high-throughput manufacturing platform that can produce complex parts with various materials using additive manufacturing (AM), also known as 3D printing, and other advanced manufacturing techniques. The system is designed to be adaptable, allowing for the rapid integration of new tools, processes, and materials as they are developed.\n",
      "\n",
      "The project is significant because it aims to bridge the gap between laboratory research and industrial-scale production, making it easier for innovations in materials science, engineering, and manufacturing to reach commercialization faster. This can potentially lead to new industries, increased economic growth, and job creation while addressing challenges related to energy, transportation, advanced materials, and national security."
     ]
    },
    {
     "data": {
      "text/plain": [
       "' ORNL-Next is a collaborative research and development effort between Oak Ridge National Laboratory (ORNL) and several industry partners to design, build, and demonstrate a versatile and scalable advanced manufacturing technology system. The main goal of ORNL-Next is to accelerate the transition of novel materials and technologies from laboratory scale to industrial production.\\n\\nThe ORNL-Next project focuses on developing an integrated, high-throughput manufacturing platform that can produce complex parts with various materials using additive manufacturing (AM), also known as 3D printing, and other advanced manufacturing techniques. The system is designed to be adaptable, allowing for the rapid integration of new tools, processes, and materials as they are developed.\\n\\nThe project is significant because it aims to bridge the gap between laboratory research and industrial-scale production, making it easier for innovations in materials science, engineering, and manufacturing to reach commercialization faster. This can potentially lead to new industries, increased economic growth, and job creation while addressing challenges related to energy, transportation, advanced materials, and national security.'"
      ]
     },
     "execution_count": 3,
     "metadata": {},
     "output_type": "execute_result"
    }
   ],
   "source": [
    "query = \"What is ornl-next?\"\n",
    "\n",
    "llm.invoke(query)"
   ]
  },
  {
   "cell_type": "markdown",
   "metadata": {},
   "source": [
    "Without providing any contex, LLM model is using the keywords \"ORNL\" to make up most of the context."
   ]
  },
  {
   "cell_type": "markdown",
   "metadata": {},
   "source": [
    "## Setup context\n",
    "\n",
    "Let's see what will happen if we provide a context to the model."
   ]
  },
  {
   "cell_type": "code",
   "execution_count": 4,
   "metadata": {},
   "outputs": [],
   "source": [
    "from langchain_community.document_loaders import PyPDFLoader\n",
    "\n",
    "loader = PyPDFLoader(\"../data/mantid-fork.pdf\")\n",
    "pages = loader.load_and_split()"
   ]
  },
  {
   "cell_type": "code",
   "execution_count": 5,
   "metadata": {},
   "outputs": [],
   "source": [
    "from langchain.text_splitter import RecursiveCharacterTextSplitter\n",
    "text_splitter = RecursiveCharacterTextSplitter(chunk_size=500, chunk_overlap=0)\n",
    "all_splits = text_splitter.split_documents(pages)"
   ]
  },
  {
   "cell_type": "code",
   "execution_count": 6,
   "metadata": {},
   "outputs": [],
   "source": [
    "from langchain.embeddings import HuggingFaceEmbeddings\n",
    "\n",
    "embeddings = HuggingFaceEmbeddings(model_name=\"all-MiniLM-L6-v2\")"
   ]
  },
  {
   "cell_type": "code",
   "execution_count": 7,
   "metadata": {},
   "outputs": [],
   "source": [
    "from langchain.vectorstores import Chroma\n",
    "\n",
    "target_source_chunks = 4\n",
    "\n",
    "db = Chroma.from_documents(all_splits, embeddings)\n",
    "retriever = db.as_retriever(search_kwargs={\"k\": target_source_chunks})"
   ]
  },
  {
   "cell_type": "code",
   "execution_count": 8,
   "metadata": {},
   "outputs": [],
   "source": [
    "from langchain.chains import RetrievalQA\n",
    "\n",
    "qa = RetrievalQA.from_chain_type(\n",
    "    llm=llm,\n",
    "    chain_type=\"stuff\",\n",
    "    retriever=retriever,\n",
    ")"
   ]
  },
  {
   "cell_type": "code",
   "execution_count": 9,
   "metadata": {},
   "outputs": [
    {
     "name": "stdout",
     "output_type": "stream",
     "text": [
      "What is ornl-next?\n"
     ]
    }
   ],
   "source": [
    "print(query)"
   ]
  },
  {
   "cell_type": "code",
   "execution_count": 10,
   "metadata": {},
   "outputs": [
    {
     "name": "stdout",
     "output_type": "stream",
     "text": [
      " Ornl-next is a branch in the Git repository where new developments and changes are automatically built and published to the mantid-ornl channel on a nightly basis. It serves as a staging area for new features before they are merged into the stable ornal and QA branches."
     ]
    }
   ],
   "source": [
    "rst = qa.invoke(query)"
   ]
  },
  {
   "cell_type": "code",
   "execution_count": 11,
   "metadata": {},
   "outputs": [
    {
     "name": "stdout",
     "output_type": "stream",
     "text": [
      "{'query': 'What is ornl-next?', 'result': ' Ornl-next is a branch in the Git repository where new developments and changes are automatically built and published to the mantid-ornl channel on a nightly basis. It serves as a staging area for new features before they are merged into the stable ornal and QA branches.'}\n"
     ]
    }
   ],
   "source": [
    "print(rst)"
   ]
  },
  {
   "cell_type": "code",
   "execution_count": null,
   "metadata": {},
   "outputs": [],
   "source": []
  }
 ],
 "metadata": {
  "kernelspec": {
   "display_name": "Python 3",
   "language": "python",
   "name": "python3"
  },
  "language_info": {
   "codemirror_mode": {
    "name": "ipython",
    "version": 3
   },
   "file_extension": ".py",
   "mimetype": "text/x-python",
   "name": "python",
   "nbconvert_exporter": "python",
   "pygments_lexer": "ipython3",
   "version": "3.11.8"
  }
 },
 "nbformat": 4,
 "nbformat_minor": 2
}
